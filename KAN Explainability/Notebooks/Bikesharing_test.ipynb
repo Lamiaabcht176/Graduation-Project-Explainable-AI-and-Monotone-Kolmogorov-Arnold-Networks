{
 "cells": [
  {
   "cell_type": "markdown",
   "id": "ee69ae3e",
   "metadata": {},
   "source": [
    "In this notebook we evaluate the explainability of two models : KAN and Random Forest, on the Bikesharing dataset. To do this, we'll be using two popular methods, SHAP and PFI."
   ]
  },
  {
   "cell_type": "code",
   "execution_count": null,
   "id": "59710ee7-9f84-4a5b-90d1-8cd9068e23e5",
   "metadata": {
    "colab": {
     "base_uri": "https://localhost:8080/"
    },
    "id": "59710ee7-9f84-4a5b-90d1-8cd9068e23e5",
    "outputId": "9c1d1af6-36cd-49d1-f3dc-4cd3c3c7a79d"
   },
   "outputs": [
    {
     "name": "stdout",
     "output_type": "stream",
     "text": [
      "Collecting git+https://github.com/KindXiaoming/pykan.git\n",
      "  Cloning https://github.com/KindXiaoming/pykan.git to c:\\users\\lamia\\appdata\\local\\temp\\pip-req-build-_qv5dgek\n",
      "  Resolved https://github.com/KindXiaoming/pykan.git to commit 00a9077100b9783304b1df95de47b7344e3e1eec\n",
      "  Preparing metadata (setup.py): started\n",
      "  Preparing metadata (setup.py): finished with status 'done'\n",
      "Building wheels for collected packages: pykan\n",
      "  Building wheel for pykan (setup.py): started\n",
      "  Building wheel for pykan (setup.py): finished with status 'done'\n",
      "  Created wheel for pykan: filename=pykan-0.2.8-py3-none-any.whl size=78446 sha256=f41c506f3edcb1c626b2321c73e06f2c30494dbef050e1e4c9dbb734967515eb\n",
      "  Stored in directory: C:\\Users\\lamia\\AppData\\Local\\Temp\\pip-ephem-wheel-cache-4qows7c9\\wheels\\e5\\c9\\d6\\a9b7aad8b3f7e1dde415462c7dd48df332ec616b149d51bcb8\n",
      "Successfully built pykan\n",
      "Installing collected packages: pykan\n",
      "  Attempting uninstall: pykan\n",
      "    Found existing installation: pykan 0.2.7\n",
      "    Uninstalling pykan-0.2.7:\n",
      "      Successfully uninstalled pykan-0.2.7\n",
      "Successfully installed pykan-0.2.8\n"
     ]
    },
    {
     "name": "stderr",
     "output_type": "stream",
     "text": [
      "  Running command git clone --filter=blob:none --quiet https://github.com/KindXiaoming/pykan.git 'C:\\Users\\lamia\\AppData\\Local\\Temp\\pip-req-build-_qv5dgek'\n"
     ]
    }
   ],
   "source": [
    "!pip install git+https://github.com/KindXiaoming/pykan.git #Importing the KAN code from github"
   ]
  },
  {
   "cell_type": "markdown",
   "id": "a44af85b-050d-4286-ae1d-dc0a3455815c",
   "metadata": {},
   "source": [
    "Import packages"
   ]
  },
  {
   "cell_type": "code",
   "execution_count": 2,
   "id": "8e4dac91-7824-4c6b-8782-35f57721ea3c",
   "metadata": {
    "id": "8e4dac91-7824-4c6b-8782-35f57721ea3c"
   },
   "outputs": [],
   "source": [
    "import torch\n",
    "from kan import KAN\n",
    "\n",
    "import numpy as np\n",
    "import pandas as pd\n",
    "import matplotlib.pyplot as plt\n",
    "\n",
    "from sklearn.metrics import accuracy_score, r2_score, mean_absolute_error, mean_squared_error\n",
    "from sklearn.model_selection import train_test_split, GridSearchCV\n",
    "from sklearn.preprocessing import StandardScaler\n",
    "from sklearn.ensemble import RandomForestRegressor\n",
    "from sklearn.inspection import permutation_importance\n",
    "import shap"
   ]
  },
  {
   "cell_type": "markdown",
   "id": "7af46282-a10e-4cbb-a78d-a52e465a96f5",
   "metadata": {},
   "source": [
    "Data Analysis and Cleaning"
   ]
  },
  {
   "cell_type": "code",
   "execution_count": 3,
   "id": "716126e6-862a-43bf-abaf-6eac411e29b8",
   "metadata": {
    "id": "716126e6-862a-43bf-abaf-6eac411e29b8"
   },
   "outputs": [],
   "source": [
    "df = pd.read_csv(\"C:/Users/lamia/Desktop/Test KAN/Bike-sharing/hour.csv\")"
   ]
  },
  {
   "cell_type": "code",
   "execution_count": 4,
   "id": "46d61d4e-b3d7-455e-a410-5f99926f8c8f",
   "metadata": {
    "colab": {
     "base_uri": "https://localhost:8080/",
     "height": 423
    },
    "id": "46d61d4e-b3d7-455e-a410-5f99926f8c8f",
    "outputId": "a9d64f71-4fd2-42a0-a592-a5ca90a05f72"
   },
   "outputs": [
    {
     "data": {
      "text/html": [
       "<div>\n",
       "<style scoped>\n",
       "    .dataframe tbody tr th:only-of-type {\n",
       "        vertical-align: middle;\n",
       "    }\n",
       "\n",
       "    .dataframe tbody tr th {\n",
       "        vertical-align: top;\n",
       "    }\n",
       "\n",
       "    .dataframe thead th {\n",
       "        text-align: right;\n",
       "    }\n",
       "</style>\n",
       "<table border=\"1\" class=\"dataframe\">\n",
       "  <thead>\n",
       "    <tr style=\"text-align: right;\">\n",
       "      <th></th>\n",
       "      <th>instant</th>\n",
       "      <th>dteday</th>\n",
       "      <th>season</th>\n",
       "      <th>yr</th>\n",
       "      <th>mnth</th>\n",
       "      <th>hr</th>\n",
       "      <th>holiday</th>\n",
       "      <th>weekday</th>\n",
       "      <th>workingday</th>\n",
       "      <th>weathersit</th>\n",
       "      <th>temp</th>\n",
       "      <th>atemp</th>\n",
       "      <th>hum</th>\n",
       "      <th>windspeed</th>\n",
       "      <th>casual</th>\n",
       "      <th>registered</th>\n",
       "      <th>cnt</th>\n",
       "    </tr>\n",
       "  </thead>\n",
       "  <tbody>\n",
       "    <tr>\n",
       "      <th>0</th>\n",
       "      <td>1</td>\n",
       "      <td>2011-01-01</td>\n",
       "      <td>1</td>\n",
       "      <td>0</td>\n",
       "      <td>1</td>\n",
       "      <td>0</td>\n",
       "      <td>0</td>\n",
       "      <td>6</td>\n",
       "      <td>0</td>\n",
       "      <td>1</td>\n",
       "      <td>0.24</td>\n",
       "      <td>0.2879</td>\n",
       "      <td>0.81</td>\n",
       "      <td>0.0000</td>\n",
       "      <td>3</td>\n",
       "      <td>13</td>\n",
       "      <td>16</td>\n",
       "    </tr>\n",
       "    <tr>\n",
       "      <th>1</th>\n",
       "      <td>2</td>\n",
       "      <td>2011-01-01</td>\n",
       "      <td>1</td>\n",
       "      <td>0</td>\n",
       "      <td>1</td>\n",
       "      <td>1</td>\n",
       "      <td>0</td>\n",
       "      <td>6</td>\n",
       "      <td>0</td>\n",
       "      <td>1</td>\n",
       "      <td>0.22</td>\n",
       "      <td>0.2727</td>\n",
       "      <td>0.80</td>\n",
       "      <td>0.0000</td>\n",
       "      <td>8</td>\n",
       "      <td>32</td>\n",
       "      <td>40</td>\n",
       "    </tr>\n",
       "    <tr>\n",
       "      <th>2</th>\n",
       "      <td>3</td>\n",
       "      <td>2011-01-01</td>\n",
       "      <td>1</td>\n",
       "      <td>0</td>\n",
       "      <td>1</td>\n",
       "      <td>2</td>\n",
       "      <td>0</td>\n",
       "      <td>6</td>\n",
       "      <td>0</td>\n",
       "      <td>1</td>\n",
       "      <td>0.22</td>\n",
       "      <td>0.2727</td>\n",
       "      <td>0.80</td>\n",
       "      <td>0.0000</td>\n",
       "      <td>5</td>\n",
       "      <td>27</td>\n",
       "      <td>32</td>\n",
       "    </tr>\n",
       "    <tr>\n",
       "      <th>3</th>\n",
       "      <td>4</td>\n",
       "      <td>2011-01-01</td>\n",
       "      <td>1</td>\n",
       "      <td>0</td>\n",
       "      <td>1</td>\n",
       "      <td>3</td>\n",
       "      <td>0</td>\n",
       "      <td>6</td>\n",
       "      <td>0</td>\n",
       "      <td>1</td>\n",
       "      <td>0.24</td>\n",
       "      <td>0.2879</td>\n",
       "      <td>0.75</td>\n",
       "      <td>0.0000</td>\n",
       "      <td>3</td>\n",
       "      <td>10</td>\n",
       "      <td>13</td>\n",
       "    </tr>\n",
       "    <tr>\n",
       "      <th>4</th>\n",
       "      <td>5</td>\n",
       "      <td>2011-01-01</td>\n",
       "      <td>1</td>\n",
       "      <td>0</td>\n",
       "      <td>1</td>\n",
       "      <td>4</td>\n",
       "      <td>0</td>\n",
       "      <td>6</td>\n",
       "      <td>0</td>\n",
       "      <td>1</td>\n",
       "      <td>0.24</td>\n",
       "      <td>0.2879</td>\n",
       "      <td>0.75</td>\n",
       "      <td>0.0000</td>\n",
       "      <td>0</td>\n",
       "      <td>1</td>\n",
       "      <td>1</td>\n",
       "    </tr>\n",
       "    <tr>\n",
       "      <th>...</th>\n",
       "      <td>...</td>\n",
       "      <td>...</td>\n",
       "      <td>...</td>\n",
       "      <td>...</td>\n",
       "      <td>...</td>\n",
       "      <td>...</td>\n",
       "      <td>...</td>\n",
       "      <td>...</td>\n",
       "      <td>...</td>\n",
       "      <td>...</td>\n",
       "      <td>...</td>\n",
       "      <td>...</td>\n",
       "      <td>...</td>\n",
       "      <td>...</td>\n",
       "      <td>...</td>\n",
       "      <td>...</td>\n",
       "      <td>...</td>\n",
       "    </tr>\n",
       "    <tr>\n",
       "      <th>17374</th>\n",
       "      <td>17375</td>\n",
       "      <td>2012-12-31</td>\n",
       "      <td>1</td>\n",
       "      <td>1</td>\n",
       "      <td>12</td>\n",
       "      <td>19</td>\n",
       "      <td>0</td>\n",
       "      <td>1</td>\n",
       "      <td>1</td>\n",
       "      <td>2</td>\n",
       "      <td>0.26</td>\n",
       "      <td>0.2576</td>\n",
       "      <td>0.60</td>\n",
       "      <td>0.1642</td>\n",
       "      <td>11</td>\n",
       "      <td>108</td>\n",
       "      <td>119</td>\n",
       "    </tr>\n",
       "    <tr>\n",
       "      <th>17375</th>\n",
       "      <td>17376</td>\n",
       "      <td>2012-12-31</td>\n",
       "      <td>1</td>\n",
       "      <td>1</td>\n",
       "      <td>12</td>\n",
       "      <td>20</td>\n",
       "      <td>0</td>\n",
       "      <td>1</td>\n",
       "      <td>1</td>\n",
       "      <td>2</td>\n",
       "      <td>0.26</td>\n",
       "      <td>0.2576</td>\n",
       "      <td>0.60</td>\n",
       "      <td>0.1642</td>\n",
       "      <td>8</td>\n",
       "      <td>81</td>\n",
       "      <td>89</td>\n",
       "    </tr>\n",
       "    <tr>\n",
       "      <th>17376</th>\n",
       "      <td>17377</td>\n",
       "      <td>2012-12-31</td>\n",
       "      <td>1</td>\n",
       "      <td>1</td>\n",
       "      <td>12</td>\n",
       "      <td>21</td>\n",
       "      <td>0</td>\n",
       "      <td>1</td>\n",
       "      <td>1</td>\n",
       "      <td>1</td>\n",
       "      <td>0.26</td>\n",
       "      <td>0.2576</td>\n",
       "      <td>0.60</td>\n",
       "      <td>0.1642</td>\n",
       "      <td>7</td>\n",
       "      <td>83</td>\n",
       "      <td>90</td>\n",
       "    </tr>\n",
       "    <tr>\n",
       "      <th>17377</th>\n",
       "      <td>17378</td>\n",
       "      <td>2012-12-31</td>\n",
       "      <td>1</td>\n",
       "      <td>1</td>\n",
       "      <td>12</td>\n",
       "      <td>22</td>\n",
       "      <td>0</td>\n",
       "      <td>1</td>\n",
       "      <td>1</td>\n",
       "      <td>1</td>\n",
       "      <td>0.26</td>\n",
       "      <td>0.2727</td>\n",
       "      <td>0.56</td>\n",
       "      <td>0.1343</td>\n",
       "      <td>13</td>\n",
       "      <td>48</td>\n",
       "      <td>61</td>\n",
       "    </tr>\n",
       "    <tr>\n",
       "      <th>17378</th>\n",
       "      <td>17379</td>\n",
       "      <td>2012-12-31</td>\n",
       "      <td>1</td>\n",
       "      <td>1</td>\n",
       "      <td>12</td>\n",
       "      <td>23</td>\n",
       "      <td>0</td>\n",
       "      <td>1</td>\n",
       "      <td>1</td>\n",
       "      <td>1</td>\n",
       "      <td>0.26</td>\n",
       "      <td>0.2727</td>\n",
       "      <td>0.65</td>\n",
       "      <td>0.1343</td>\n",
       "      <td>12</td>\n",
       "      <td>37</td>\n",
       "      <td>49</td>\n",
       "    </tr>\n",
       "  </tbody>\n",
       "</table>\n",
       "<p>17379 rows × 17 columns</p>\n",
       "</div>"
      ],
      "text/plain": [
       "       instant      dteday  season  yr  mnth  hr  holiday  weekday  \\\n",
       "0            1  2011-01-01       1   0     1   0        0        6   \n",
       "1            2  2011-01-01       1   0     1   1        0        6   \n",
       "2            3  2011-01-01       1   0     1   2        0        6   \n",
       "3            4  2011-01-01       1   0     1   3        0        6   \n",
       "4            5  2011-01-01       1   0     1   4        0        6   \n",
       "...        ...         ...     ...  ..   ...  ..      ...      ...   \n",
       "17374    17375  2012-12-31       1   1    12  19        0        1   \n",
       "17375    17376  2012-12-31       1   1    12  20        0        1   \n",
       "17376    17377  2012-12-31       1   1    12  21        0        1   \n",
       "17377    17378  2012-12-31       1   1    12  22        0        1   \n",
       "17378    17379  2012-12-31       1   1    12  23        0        1   \n",
       "\n",
       "       workingday  weathersit  temp   atemp   hum  windspeed  casual  \\\n",
       "0               0           1  0.24  0.2879  0.81     0.0000       3   \n",
       "1               0           1  0.22  0.2727  0.80     0.0000       8   \n",
       "2               0           1  0.22  0.2727  0.80     0.0000       5   \n",
       "3               0           1  0.24  0.2879  0.75     0.0000       3   \n",
       "4               0           1  0.24  0.2879  0.75     0.0000       0   \n",
       "...           ...         ...   ...     ...   ...        ...     ...   \n",
       "17374           1           2  0.26  0.2576  0.60     0.1642      11   \n",
       "17375           1           2  0.26  0.2576  0.60     0.1642       8   \n",
       "17376           1           1  0.26  0.2576  0.60     0.1642       7   \n",
       "17377           1           1  0.26  0.2727  0.56     0.1343      13   \n",
       "17378           1           1  0.26  0.2727  0.65     0.1343      12   \n",
       "\n",
       "       registered  cnt  \n",
       "0              13   16  \n",
       "1              32   40  \n",
       "2              27   32  \n",
       "3              10   13  \n",
       "4               1    1  \n",
       "...           ...  ...  \n",
       "17374         108  119  \n",
       "17375          81   89  \n",
       "17376          83   90  \n",
       "17377          48   61  \n",
       "17378          37   49  \n",
       "\n",
       "[17379 rows x 17 columns]"
      ]
     },
     "execution_count": 4,
     "metadata": {},
     "output_type": "execute_result"
    }
   ],
   "source": [
    "df"
   ]
  },
  {
   "cell_type": "code",
   "execution_count": 5,
   "id": "a3dfebab-3821-4110-8d0c-884457f2ef99",
   "metadata": {
    "id": "a3dfebab-3821-4110-8d0c-884457f2ef99"
   },
   "outputs": [],
   "source": [
    "df.drop(['instant', 'dteday', 'atemp', 'registered', 'casual'], axis=1, inplace=True)\n",
    "df.dropna(inplace=True)\n",
    "# Prepare input features and labels\n",
    "X = df.drop('cnt', axis=1)\n",
    "y = df['cnt']\n",
    "\n",
    "# Ensure X and y do not contain NaNs\n",
    "X.dropna(inplace=True)\n",
    "y.dropna(inplace=True)\n",
    "y = y[X.index]  # Align y with the remaining X"
   ]
  },
  {
   "cell_type": "code",
   "execution_count": 6,
   "id": "15f6ef32-697e-48cc-be11-ff15aad1e237",
   "metadata": {
    "id": "15f6ef32-697e-48cc-be11-ff15aad1e237"
   },
   "outputs": [],
   "source": [
    "# Splitting the data\n",
    "X_train, X_temp, y_train, y_temp = train_test_split(X, y, test_size=0.3, random_state=0)\n",
    "X_val, X_test, y_val, y_test = train_test_split(X_temp, y_temp, test_size=0.5, random_state=0)"
   ]
  },
  {
   "cell_type": "code",
   "execution_count": 7,
   "id": "a11192c9-149d-4845-862b-ee1644009f75",
   "metadata": {
    "id": "a11192c9-149d-4845-862b-ee1644009f75"
   },
   "outputs": [],
   "source": [
    "# Drop NaNs in X_train, X_val, and X_test\n",
    "X_train.dropna(inplace=True)\n",
    "X_val.dropna(inplace=True)\n",
    "X_test.dropna(inplace=True)\n",
    "\n",
    "y_train.dropna(inplace=True)\n",
    "y_val.dropna(inplace=True)\n",
    "y_test.dropna(inplace=True)"
   ]
  },
  {
   "cell_type": "code",
   "execution_count": 8,
   "id": "177f1232-e7cd-4b1e-b78d-5d0b4d66d92a",
   "metadata": {
    "id": "177f1232-e7cd-4b1e-b78d-5d0b4d66d92a"
   },
   "outputs": [],
   "source": [
    "# transforming the data\n",
    "train_input = torch.tensor(X_train.to_numpy(), dtype=torch.float32)\n",
    "train_label = torch.tensor(y_train.to_numpy(), dtype=torch.float32).view(-1, 1)\n",
    "val_input = torch.tensor(X_val.to_numpy(), dtype=torch.float32)\n",
    "val_label = torch.tensor(y_val.to_numpy(), dtype=torch.float32).view(-1, 1)\n",
    "test_input = torch.tensor(X_test.to_numpy(), dtype=torch.float32)\n",
    "test_label = torch.tensor(y_test.to_numpy(), dtype=torch.float32).view(-1, 1)\n"
   ]
  },
  {
   "cell_type": "code",
   "execution_count": 9,
   "id": "6e6b1546-5644-4b7e-96ee-b9057197240c",
   "metadata": {
    "id": "6e6b1546-5644-4b7e-96ee-b9057197240c"
   },
   "outputs": [],
   "source": [
    "# creating the dataset\n",
    "dataset = {\n",
    "    'train_input': train_input,\n",
    "    'train_label': train_label,\n",
    "    'val_input': val_input,\n",
    "    'val_label': val_label,\n",
    "    'test_input': test_input,\n",
    "    'test_label': test_label\n",
    "}"
   ]
  },
  {
   "cell_type": "markdown",
   "id": "9b09bfd8-6b63-42e1-8307-19eb64bce8c9",
   "metadata": {
    "id": "9b09bfd8-6b63-42e1-8307-19eb64bce8c9"
   },
   "source": [
    "Random Forest Model"
   ]
  },
  {
   "cell_type": "code",
   "execution_count": null,
   "id": "ddac7b84-8ee2-4e00-a5cf-9a1cf5e22729",
   "metadata": {
    "id": "ddac7b84-8ee2-4e00-a5cf-9a1cf5e22729",
    "outputId": "1da77c12-debf-4812-fe21-ecc274db6e10"
   },
   "outputs": [
    {
     "name": "stdout",
     "output_type": "stream",
     "text": [
      "Fitting 3 folds for each of 108 candidates, totalling 324 fits\n",
      "Best Parameters: {'max_depth': None, 'max_samples': 0.9, 'min_samples_leaf': 1, 'n_estimators': 300}\n"
     ]
    }
   ],
   "source": [
    "# GridSearch to find best parameters\n",
    "\n",
    "param_grid = {\n",
    "    \"max_depth\": [None, 12, 15, 18],\n",
    "    \"min_samples_leaf\": [1, 2, 4],\n",
    "    \"n_estimators\": [100, 200, 300],\n",
    "    \"max_samples\": [0.8, 0.9, 0.99]\n",
    "}\n",
    "\n",
    "\n",
    "rf = RandomForestRegressor(random_state=1)\n",
    "\n",
    "# Set up GridSearchCV\n",
    "grid_search = GridSearchCV(estimator=rf, param_grid=param_grid, cv=3, verbose=1, n_jobs=-1)\n",
    "# Fit the model with hyperparameter tuning\n",
    "grid_search.fit(X_train, y_train)\n",
    "\n",
    "print(\"Best Parameters:\", grid_search.best_params_)\n"
   ]
  },
  {
   "cell_type": "code",
   "execution_count": 10,
   "id": "361774a8-baa8-4087-bbcb-dd41e9242f54",
   "metadata": {},
   "outputs": [
    {
     "data": {
      "text/html": [
       "<style>#sk-container-id-1 {\n",
       "  /* Definition of color scheme common for light and dark mode */\n",
       "  --sklearn-color-text: black;\n",
       "  --sklearn-color-line: gray;\n",
       "  /* Definition of color scheme for unfitted estimators */\n",
       "  --sklearn-color-unfitted-level-0: #fff5e6;\n",
       "  --sklearn-color-unfitted-level-1: #f6e4d2;\n",
       "  --sklearn-color-unfitted-level-2: #ffe0b3;\n",
       "  --sklearn-color-unfitted-level-3: chocolate;\n",
       "  /* Definition of color scheme for fitted estimators */\n",
       "  --sklearn-color-fitted-level-0: #f0f8ff;\n",
       "  --sklearn-color-fitted-level-1: #d4ebff;\n",
       "  --sklearn-color-fitted-level-2: #b3dbfd;\n",
       "  --sklearn-color-fitted-level-3: cornflowerblue;\n",
       "\n",
       "  /* Specific color for light theme */\n",
       "  --sklearn-color-text-on-default-background: var(--sg-text-color, var(--theme-code-foreground, var(--jp-content-font-color1, black)));\n",
       "  --sklearn-color-background: var(--sg-background-color, var(--theme-background, var(--jp-layout-color0, white)));\n",
       "  --sklearn-color-border-box: var(--sg-text-color, var(--theme-code-foreground, var(--jp-content-font-color1, black)));\n",
       "  --sklearn-color-icon: #696969;\n",
       "\n",
       "  @media (prefers-color-scheme: dark) {\n",
       "    /* Redefinition of color scheme for dark theme */\n",
       "    --sklearn-color-text-on-default-background: var(--sg-text-color, var(--theme-code-foreground, var(--jp-content-font-color1, white)));\n",
       "    --sklearn-color-background: var(--sg-background-color, var(--theme-background, var(--jp-layout-color0, #111)));\n",
       "    --sklearn-color-border-box: var(--sg-text-color, var(--theme-code-foreground, var(--jp-content-font-color1, white)));\n",
       "    --sklearn-color-icon: #878787;\n",
       "  }\n",
       "}\n",
       "\n",
       "#sk-container-id-1 {\n",
       "  color: var(--sklearn-color-text);\n",
       "}\n",
       "\n",
       "#sk-container-id-1 pre {\n",
       "  padding: 0;\n",
       "}\n",
       "\n",
       "#sk-container-id-1 input.sk-hidden--visually {\n",
       "  border: 0;\n",
       "  clip: rect(1px 1px 1px 1px);\n",
       "  clip: rect(1px, 1px, 1px, 1px);\n",
       "  height: 1px;\n",
       "  margin: -1px;\n",
       "  overflow: hidden;\n",
       "  padding: 0;\n",
       "  position: absolute;\n",
       "  width: 1px;\n",
       "}\n",
       "\n",
       "#sk-container-id-1 div.sk-dashed-wrapped {\n",
       "  border: 1px dashed var(--sklearn-color-line);\n",
       "  margin: 0 0.4em 0.5em 0.4em;\n",
       "  box-sizing: border-box;\n",
       "  padding-bottom: 0.4em;\n",
       "  background-color: var(--sklearn-color-background);\n",
       "}\n",
       "\n",
       "#sk-container-id-1 div.sk-container {\n",
       "  /* jupyter's `normalize.less` sets `[hidden] { display: none; }`\n",
       "     but bootstrap.min.css set `[hidden] { display: none !important; }`\n",
       "     so we also need the `!important` here to be able to override the\n",
       "     default hidden behavior on the sphinx rendered scikit-learn.org.\n",
       "     See: https://github.com/scikit-learn/scikit-learn/issues/21755 */\n",
       "  display: inline-block !important;\n",
       "  position: relative;\n",
       "}\n",
       "\n",
       "#sk-container-id-1 div.sk-text-repr-fallback {\n",
       "  display: none;\n",
       "}\n",
       "\n",
       "div.sk-parallel-item,\n",
       "div.sk-serial,\n",
       "div.sk-item {\n",
       "  /* draw centered vertical line to link estimators */\n",
       "  background-image: linear-gradient(var(--sklearn-color-text-on-default-background), var(--sklearn-color-text-on-default-background));\n",
       "  background-size: 2px 100%;\n",
       "  background-repeat: no-repeat;\n",
       "  background-position: center center;\n",
       "}\n",
       "\n",
       "/* Parallel-specific style estimator block */\n",
       "\n",
       "#sk-container-id-1 div.sk-parallel-item::after {\n",
       "  content: \"\";\n",
       "  width: 100%;\n",
       "  border-bottom: 2px solid var(--sklearn-color-text-on-default-background);\n",
       "  flex-grow: 1;\n",
       "}\n",
       "\n",
       "#sk-container-id-1 div.sk-parallel {\n",
       "  display: flex;\n",
       "  align-items: stretch;\n",
       "  justify-content: center;\n",
       "  background-color: var(--sklearn-color-background);\n",
       "  position: relative;\n",
       "}\n",
       "\n",
       "#sk-container-id-1 div.sk-parallel-item {\n",
       "  display: flex;\n",
       "  flex-direction: column;\n",
       "}\n",
       "\n",
       "#sk-container-id-1 div.sk-parallel-item:first-child::after {\n",
       "  align-self: flex-end;\n",
       "  width: 50%;\n",
       "}\n",
       "\n",
       "#sk-container-id-1 div.sk-parallel-item:last-child::after {\n",
       "  align-self: flex-start;\n",
       "  width: 50%;\n",
       "}\n",
       "\n",
       "#sk-container-id-1 div.sk-parallel-item:only-child::after {\n",
       "  width: 0;\n",
       "}\n",
       "\n",
       "/* Serial-specific style estimator block */\n",
       "\n",
       "#sk-container-id-1 div.sk-serial {\n",
       "  display: flex;\n",
       "  flex-direction: column;\n",
       "  align-items: center;\n",
       "  background-color: var(--sklearn-color-background);\n",
       "  padding-right: 1em;\n",
       "  padding-left: 1em;\n",
       "}\n",
       "\n",
       "\n",
       "/* Toggleable style: style used for estimator/Pipeline/ColumnTransformer box that is\n",
       "clickable and can be expanded/collapsed.\n",
       "- Pipeline and ColumnTransformer use this feature and define the default style\n",
       "- Estimators will overwrite some part of the style using the `sk-estimator` class\n",
       "*/\n",
       "\n",
       "/* Pipeline and ColumnTransformer style (default) */\n",
       "\n",
       "#sk-container-id-1 div.sk-toggleable {\n",
       "  /* Default theme specific background. It is overwritten whether we have a\n",
       "  specific estimator or a Pipeline/ColumnTransformer */\n",
       "  background-color: var(--sklearn-color-background);\n",
       "}\n",
       "\n",
       "/* Toggleable label */\n",
       "#sk-container-id-1 label.sk-toggleable__label {\n",
       "  cursor: pointer;\n",
       "  display: block;\n",
       "  width: 100%;\n",
       "  margin-bottom: 0;\n",
       "  padding: 0.5em;\n",
       "  box-sizing: border-box;\n",
       "  text-align: center;\n",
       "}\n",
       "\n",
       "#sk-container-id-1 label.sk-toggleable__label-arrow:before {\n",
       "  /* Arrow on the left of the label */\n",
       "  content: \"▸\";\n",
       "  float: left;\n",
       "  margin-right: 0.25em;\n",
       "  color: var(--sklearn-color-icon);\n",
       "}\n",
       "\n",
       "#sk-container-id-1 label.sk-toggleable__label-arrow:hover:before {\n",
       "  color: var(--sklearn-color-text);\n",
       "}\n",
       "\n",
       "/* Toggleable content - dropdown */\n",
       "\n",
       "#sk-container-id-1 div.sk-toggleable__content {\n",
       "  max-height: 0;\n",
       "  max-width: 0;\n",
       "  overflow: hidden;\n",
       "  text-align: left;\n",
       "  /* unfitted */\n",
       "  background-color: var(--sklearn-color-unfitted-level-0);\n",
       "}\n",
       "\n",
       "#sk-container-id-1 div.sk-toggleable__content.fitted {\n",
       "  /* fitted */\n",
       "  background-color: var(--sklearn-color-fitted-level-0);\n",
       "}\n",
       "\n",
       "#sk-container-id-1 div.sk-toggleable__content pre {\n",
       "  margin: 0.2em;\n",
       "  border-radius: 0.25em;\n",
       "  color: var(--sklearn-color-text);\n",
       "  /* unfitted */\n",
       "  background-color: var(--sklearn-color-unfitted-level-0);\n",
       "}\n",
       "\n",
       "#sk-container-id-1 div.sk-toggleable__content.fitted pre {\n",
       "  /* unfitted */\n",
       "  background-color: var(--sklearn-color-fitted-level-0);\n",
       "}\n",
       "\n",
       "#sk-container-id-1 input.sk-toggleable__control:checked~div.sk-toggleable__content {\n",
       "  /* Expand drop-down */\n",
       "  max-height: 200px;\n",
       "  max-width: 100%;\n",
       "  overflow: auto;\n",
       "}\n",
       "\n",
       "#sk-container-id-1 input.sk-toggleable__control:checked~label.sk-toggleable__label-arrow:before {\n",
       "  content: \"▾\";\n",
       "}\n",
       "\n",
       "/* Pipeline/ColumnTransformer-specific style */\n",
       "\n",
       "#sk-container-id-1 div.sk-label input.sk-toggleable__control:checked~label.sk-toggleable__label {\n",
       "  color: var(--sklearn-color-text);\n",
       "  background-color: var(--sklearn-color-unfitted-level-2);\n",
       "}\n",
       "\n",
       "#sk-container-id-1 div.sk-label.fitted input.sk-toggleable__control:checked~label.sk-toggleable__label {\n",
       "  background-color: var(--sklearn-color-fitted-level-2);\n",
       "}\n",
       "\n",
       "/* Estimator-specific style */\n",
       "\n",
       "/* Colorize estimator box */\n",
       "#sk-container-id-1 div.sk-estimator input.sk-toggleable__control:checked~label.sk-toggleable__label {\n",
       "  /* unfitted */\n",
       "  background-color: var(--sklearn-color-unfitted-level-2);\n",
       "}\n",
       "\n",
       "#sk-container-id-1 div.sk-estimator.fitted input.sk-toggleable__control:checked~label.sk-toggleable__label {\n",
       "  /* fitted */\n",
       "  background-color: var(--sklearn-color-fitted-level-2);\n",
       "}\n",
       "\n",
       "#sk-container-id-1 div.sk-label label.sk-toggleable__label,\n",
       "#sk-container-id-1 div.sk-label label {\n",
       "  /* The background is the default theme color */\n",
       "  color: var(--sklearn-color-text-on-default-background);\n",
       "}\n",
       "\n",
       "/* On hover, darken the color of the background */\n",
       "#sk-container-id-1 div.sk-label:hover label.sk-toggleable__label {\n",
       "  color: var(--sklearn-color-text);\n",
       "  background-color: var(--sklearn-color-unfitted-level-2);\n",
       "}\n",
       "\n",
       "/* Label box, darken color on hover, fitted */\n",
       "#sk-container-id-1 div.sk-label.fitted:hover label.sk-toggleable__label.fitted {\n",
       "  color: var(--sklearn-color-text);\n",
       "  background-color: var(--sklearn-color-fitted-level-2);\n",
       "}\n",
       "\n",
       "/* Estimator label */\n",
       "\n",
       "#sk-container-id-1 div.sk-label label {\n",
       "  font-family: monospace;\n",
       "  font-weight: bold;\n",
       "  display: inline-block;\n",
       "  line-height: 1.2em;\n",
       "}\n",
       "\n",
       "#sk-container-id-1 div.sk-label-container {\n",
       "  text-align: center;\n",
       "}\n",
       "\n",
       "/* Estimator-specific */\n",
       "#sk-container-id-1 div.sk-estimator {\n",
       "  font-family: monospace;\n",
       "  border: 1px dotted var(--sklearn-color-border-box);\n",
       "  border-radius: 0.25em;\n",
       "  box-sizing: border-box;\n",
       "  margin-bottom: 0.5em;\n",
       "  /* unfitted */\n",
       "  background-color: var(--sklearn-color-unfitted-level-0);\n",
       "}\n",
       "\n",
       "#sk-container-id-1 div.sk-estimator.fitted {\n",
       "  /* fitted */\n",
       "  background-color: var(--sklearn-color-fitted-level-0);\n",
       "}\n",
       "\n",
       "/* on hover */\n",
       "#sk-container-id-1 div.sk-estimator:hover {\n",
       "  /* unfitted */\n",
       "  background-color: var(--sklearn-color-unfitted-level-2);\n",
       "}\n",
       "\n",
       "#sk-container-id-1 div.sk-estimator.fitted:hover {\n",
       "  /* fitted */\n",
       "  background-color: var(--sklearn-color-fitted-level-2);\n",
       "}\n",
       "\n",
       "/* Specification for estimator info (e.g. \"i\" and \"?\") */\n",
       "\n",
       "/* Common style for \"i\" and \"?\" */\n",
       "\n",
       ".sk-estimator-doc-link,\n",
       "a:link.sk-estimator-doc-link,\n",
       "a:visited.sk-estimator-doc-link {\n",
       "  float: right;\n",
       "  font-size: smaller;\n",
       "  line-height: 1em;\n",
       "  font-family: monospace;\n",
       "  background-color: var(--sklearn-color-background);\n",
       "  border-radius: 1em;\n",
       "  height: 1em;\n",
       "  width: 1em;\n",
       "  text-decoration: none !important;\n",
       "  margin-left: 1ex;\n",
       "  /* unfitted */\n",
       "  border: var(--sklearn-color-unfitted-level-1) 1pt solid;\n",
       "  color: var(--sklearn-color-unfitted-level-1);\n",
       "}\n",
       "\n",
       ".sk-estimator-doc-link.fitted,\n",
       "a:link.sk-estimator-doc-link.fitted,\n",
       "a:visited.sk-estimator-doc-link.fitted {\n",
       "  /* fitted */\n",
       "  border: var(--sklearn-color-fitted-level-1) 1pt solid;\n",
       "  color: var(--sklearn-color-fitted-level-1);\n",
       "}\n",
       "\n",
       "/* On hover */\n",
       "div.sk-estimator:hover .sk-estimator-doc-link:hover,\n",
       ".sk-estimator-doc-link:hover,\n",
       "div.sk-label-container:hover .sk-estimator-doc-link:hover,\n",
       ".sk-estimator-doc-link:hover {\n",
       "  /* unfitted */\n",
       "  background-color: var(--sklearn-color-unfitted-level-3);\n",
       "  color: var(--sklearn-color-background);\n",
       "  text-decoration: none;\n",
       "}\n",
       "\n",
       "div.sk-estimator.fitted:hover .sk-estimator-doc-link.fitted:hover,\n",
       ".sk-estimator-doc-link.fitted:hover,\n",
       "div.sk-label-container:hover .sk-estimator-doc-link.fitted:hover,\n",
       ".sk-estimator-doc-link.fitted:hover {\n",
       "  /* fitted */\n",
       "  background-color: var(--sklearn-color-fitted-level-3);\n",
       "  color: var(--sklearn-color-background);\n",
       "  text-decoration: none;\n",
       "}\n",
       "\n",
       "/* Span, style for the box shown on hovering the info icon */\n",
       ".sk-estimator-doc-link span {\n",
       "  display: none;\n",
       "  z-index: 9999;\n",
       "  position: relative;\n",
       "  font-weight: normal;\n",
       "  right: .2ex;\n",
       "  padding: .5ex;\n",
       "  margin: .5ex;\n",
       "  width: min-content;\n",
       "  min-width: 20ex;\n",
       "  max-width: 50ex;\n",
       "  color: var(--sklearn-color-text);\n",
       "  box-shadow: 2pt 2pt 4pt #999;\n",
       "  /* unfitted */\n",
       "  background: var(--sklearn-color-unfitted-level-0);\n",
       "  border: .5pt solid var(--sklearn-color-unfitted-level-3);\n",
       "}\n",
       "\n",
       ".sk-estimator-doc-link.fitted span {\n",
       "  /* fitted */\n",
       "  background: var(--sklearn-color-fitted-level-0);\n",
       "  border: var(--sklearn-color-fitted-level-3);\n",
       "}\n",
       "\n",
       ".sk-estimator-doc-link:hover span {\n",
       "  display: block;\n",
       "}\n",
       "\n",
       "/* \"?\"-specific style due to the `<a>` HTML tag */\n",
       "\n",
       "#sk-container-id-1 a.estimator_doc_link {\n",
       "  float: right;\n",
       "  font-size: 1rem;\n",
       "  line-height: 1em;\n",
       "  font-family: monospace;\n",
       "  background-color: var(--sklearn-color-background);\n",
       "  border-radius: 1rem;\n",
       "  height: 1rem;\n",
       "  width: 1rem;\n",
       "  text-decoration: none;\n",
       "  /* unfitted */\n",
       "  color: var(--sklearn-color-unfitted-level-1);\n",
       "  border: var(--sklearn-color-unfitted-level-1) 1pt solid;\n",
       "}\n",
       "\n",
       "#sk-container-id-1 a.estimator_doc_link.fitted {\n",
       "  /* fitted */\n",
       "  border: var(--sklearn-color-fitted-level-1) 1pt solid;\n",
       "  color: var(--sklearn-color-fitted-level-1);\n",
       "}\n",
       "\n",
       "/* On hover */\n",
       "#sk-container-id-1 a.estimator_doc_link:hover {\n",
       "  /* unfitted */\n",
       "  background-color: var(--sklearn-color-unfitted-level-3);\n",
       "  color: var(--sklearn-color-background);\n",
       "  text-decoration: none;\n",
       "}\n",
       "\n",
       "#sk-container-id-1 a.estimator_doc_link.fitted:hover {\n",
       "  /* fitted */\n",
       "  background-color: var(--sklearn-color-fitted-level-3);\n",
       "}\n",
       "</style><div id=\"sk-container-id-1\" class=\"sk-top-container\"><div class=\"sk-text-repr-fallback\"><pre>RandomForestRegressor(max_samples=0.9, n_estimators=300, random_state=1)</pre><b>In a Jupyter environment, please rerun this cell to show the HTML representation or trust the notebook. <br />On GitHub, the HTML representation is unable to render, please try loading this page with nbviewer.org.</b></div><div class=\"sk-container\" hidden><div class=\"sk-item\"><div class=\"sk-estimator fitted sk-toggleable\"><input class=\"sk-toggleable__control sk-hidden--visually\" id=\"sk-estimator-id-1\" type=\"checkbox\" checked><label for=\"sk-estimator-id-1\" class=\"sk-toggleable__label fitted sk-toggleable__label-arrow fitted\">&nbsp;&nbsp;RandomForestRegressor<a class=\"sk-estimator-doc-link fitted\" rel=\"noreferrer\" target=\"_blank\" href=\"https://scikit-learn.org/1.4/modules/generated/sklearn.ensemble.RandomForestRegressor.html\">?<span>Documentation for RandomForestRegressor</span></a><span class=\"sk-estimator-doc-link fitted\">i<span>Fitted</span></span></label><div class=\"sk-toggleable__content fitted\"><pre>RandomForestRegressor(max_samples=0.9, n_estimators=300, random_state=1)</pre></div> </div></div></div></div>"
      ],
      "text/plain": [
       "RandomForestRegressor(max_samples=0.9, n_estimators=300, random_state=1)"
      ]
     },
     "execution_count": 10,
     "metadata": {},
     "output_type": "execute_result"
    }
   ],
   "source": [
    "# Best model\n",
    "best_rf_model = RandomForestRegressor(\n",
    "    max_depth=None,\n",
    "    max_samples=0.9,\n",
    "    min_samples_leaf=1,\n",
    "    n_estimators=300,\n",
    "    random_state=1\n",
    ")\n",
    "\n",
    "# Fit the model\n",
    "best_rf_model.fit(X_train, y_train)"
   ]
  },
  {
   "cell_type": "code",
   "execution_count": 11,
   "id": "0b80619d-d5c3-4274-8e2d-fe4c19228a68",
   "metadata": {
    "colab": {
     "base_uri": "https://localhost:8080/"
    },
    "id": "0b80619d-d5c3-4274-8e2d-fe4c19228a68",
    "outputId": "5254b883-3562-4c23-bac0-8773c1019af9"
   },
   "outputs": [
    {
     "name": "stdout",
     "output_type": "stream",
     "text": [
      "Train R2 Score: 0.9905872546696741\n",
      "Train MAE: 10.598475850573138\n",
      "Validation R2 Score: 0.937695154213167\n",
      "Validation MAE: 26.907520372501384\n",
      "Test R2 Score: 0.9424077776907787\n",
      "Test MAE: 26.15226407535268\n"
     ]
    }
   ],
   "source": [
    "# Make predictions using the best model\n",
    "train_preds_rf = best_rf_model.predict(X_train)\n",
    "val_preds_rf = best_rf_model.predict(X_val)\n",
    "test_preds_rf = best_rf_model.predict(X_test)\n",
    "\n",
    "# Evaluate metrics\n",
    "\n",
    "print(\"Train R2 Score:\", r2_score(y_train, train_preds_rf))\n",
    "print(\"Train MAE:\", mean_absolute_error(y_train, train_preds_rf))\n",
    "\n",
    "print(\"Validation R2 Score:\", r2_score(y_val, val_preds_rf))\n",
    "print(\"Validation MAE:\", mean_absolute_error(y_val, val_preds_rf))\n",
    "\n",
    "print(\"Test R2 Score:\", r2_score(y_test, test_preds_rf))\n",
    "print(\"Test MAE:\", mean_absolute_error(y_test, test_preds_rf))"
   ]
  },
  {
   "cell_type": "markdown",
   "id": "8467d9ab-0717-47cf-93eb-70467ca44d55",
   "metadata": {
    "id": "8467d9ab-0717-47cf-93eb-70467ca44d55"
   },
   "source": [
    "PFI for Random Forest"
   ]
  },
  {
   "cell_type": "code",
   "execution_count": 13,
   "id": "d20819de-853e-4f59-a200-736a7bcd38c2",
   "metadata": {
    "colab": {
     "base_uri": "https://localhost:8080/",
     "height": 698
    },
    "id": "d20819de-853e-4f59-a200-736a7bcd38c2",
    "outputId": "8b351f85-bf69-4a58-999b-b654cec7b009"
   },
   "outputs": [
    {
     "name": "stdout",
     "output_type": "stream",
     "text": [
      " PFI Feature Importance :\n",
      "       Feature    Importance      Std Dev\n",
      "3           hr  44810.429504  2141.654708\n",
      "6   workingday   8788.636594   551.870755\n",
      "1           yr   6408.687089   411.449606\n",
      "8         temp   5948.438874   551.427384\n",
      "9          hum   1898.190597   208.255690\n",
      "7   weathersit   1244.025640   165.011478\n",
      "0       season   1190.878393   110.984668\n",
      "2         mnth    832.777933   164.435114\n",
      "5      weekday    607.886513    58.353987\n",
      "10   windspeed    102.176691    26.585088\n",
      "4      holiday     83.838916    28.072622\n"
     ]
    },
    {
     "data": {
      "image/png": "[encoded data removed]",
      "text/plain": [
       "<Figure size 640x480 with 1 Axes>"
      ]
     },
     "metadata": {},
     "output_type": "display_data"
    }
   ],
   "source": [
    "# Sampling data\n",
    "X_test_sample = X_test.sample(n=1000, random_state=42)\n",
    "y_test_sample = y_test.sample(n=1000, random_state=42)\n",
    "\n",
    "# Calculate PFI using permutation_importance from Scikit-learn\n",
    "pfi_result = permutation_importance(best_rf_model, X_test_sample, y_test_sample, n_repeats=10, random_state=42, scoring='neg_mean_squared_error')\n",
    "\n",
    "# Create a DataFrame to store the importance results\n",
    "pfi_importances = pd.DataFrame({\n",
    "    'Feature': X.columns,\n",
    "    'Importance': pfi_result.importances_mean,\n",
    "    'Std Dev': pfi_result.importances_std\n",
    "})\n",
    "\n",
    "# Sort the features by importance\n",
    "pfi_importances_sorted = pfi_importances.sort_values(by='Importance', ascending=False)\n",
    "\n",
    "\n",
    "print(\" PFI Feature Importance :\")\n",
    "print(pfi_importances_sorted)\n",
    "\n",
    "plt.barh(pfi_importances_sorted['Feature'], pfi_importances_sorted['Importance'])\n",
    "plt.xlabel(\"Permutation Importance\")\n",
    "plt.title(\" Permutation Feature Importance (RF) \")\n",
    "plt.gca().invert_yaxis()\n",
    "plt.show()"
   ]
  },
  {
   "cell_type": "markdown",
   "id": "c3e6d480-a22b-45c4-8a30-ce0bec9d31f8",
   "metadata": {
    "id": "c3e6d480-a22b-45c4-8a30-ce0bec9d31f8"
   },
   "source": [
    "SHAP for Random Forest"
   ]
  },
  {
   "cell_type": "code",
   "execution_count": 14,
   "id": "C7jEghwUK0Zz",
   "metadata": {
    "colab": {
     "base_uri": "https://localhost:8080/",
     "height": 596
    },
    "id": "C7jEghwUK0Zz",
    "outputId": "656e2fa1-6d57-4dbe-d500-60e993737b0f"
   },
   "outputs": [
    {
     "data": {
      "image/png": "[encoded data removed]",
      "text/plain": [
       "<Figure size 800x590 with 2 Axes>"
      ]
     },
     "metadata": {},
     "output_type": "display_data"
    },
    {
     "ename": "NameError",
     "evalue": "name 'shap_importances' is not defined",
     "output_type": "error",
     "traceback": [
      "\u001b[1;31m---------------------------------------------------------------------------\u001b[0m",
      "\u001b[1;31mNameError\u001b[0m                                 Traceback (most recent call last)",
      "Cell \u001b[1;32mIn[14], line 10\u001b[0m\n\u001b[0;32m      8\u001b[0m \u001b[38;5;66;03m# Summary plot of SHAP values\u001b[39;00m\n\u001b[0;32m      9\u001b[0m shap\u001b[38;5;241m.\u001b[39msummary_plot(shap_values, X_test_sample)\n\u001b[1;32m---> 10\u001b[0m shap_importances_sorted \u001b[38;5;241m=\u001b[39m shap_importances\u001b[38;5;241m.\u001b[39msort_values(by\u001b[38;5;241m=\u001b[39m\u001b[38;5;124m'\u001b[39m\u001b[38;5;124mImportance\u001b[39m\u001b[38;5;124m'\u001b[39m, ascending\u001b[38;5;241m=\u001b[39m\u001b[38;5;28;01mFalse\u001b[39;00m)\n",
      "\u001b[1;31mNameError\u001b[0m: name 'shap_importances' is not defined"
     ]
    }
   ],
   "source": [
    "\n",
    "# Initialize SHAP explainer for the Random Forest model\n",
    "X_test_sample = X_test.sample(n=1000, random_state=42)\n",
    "explainer = shap.TreeExplainer(best_rf_model)\n",
    "\n",
    "# Calculate SHAP values for the test set\n",
    "shap_values = explainer(X_test_sample)\n",
    "\n",
    "# Summary plot of SHAP values\n",
    "shap.summary_plot(shap_values, X_test_sample)\n"
   ]
  },
  {
   "cell_type": "code",
   "execution_count": null,
   "id": "2e3cbf95-efb8-4407-87d1-ea34b7986058",
   "metadata": {},
   "outputs": [],
   "source": [
    "# Shap importances Dataframe\n",
    "shap_importances = pd.DataFrame({\n",
    "    'Feature': X_test.columns,\n",
    "    'Importance': np.abs(shap_values.values).mean(axis=0)\n",
    "})\n",
    "shap_importances_sorted = shap_importances.sort_values(by='Importance', ascending=False)"
   ]
  },
  {
   "cell_type": "markdown",
   "id": "0617228c-b7ab-48cf-966d-0d7b19ee7418",
   "metadata": {},
   "source": [
    "Agreement metric"
   ]
  },
  {
   "cell_type": "code",
   "execution_count": null,
   "id": "40b28f38-5dbf-4785-aead-913fabfcd980",
   "metadata": {},
   "outputs": [],
   "source": [
    "# Function to measure greement for the top k features using Jaccard Index\n",
    "def agreement_metric(top_k_shap, top_k_pfi):\n",
    "    set_shap = set(top_k_shap)\n",
    "    set_pfi = set(top_k_pfi)\n",
    "\n",
    "    intersection = len(set_shap.intersection(set_pfi))\n",
    "    union = len(set_shap.union(set_pfi))\n",
    "\n",
    "    score = intersection / union if union != 0 else 0\n",
    "    return score"
   ]
  },
  {
   "cell_type": "code",
   "execution_count": null,
   "id": "a20b86cc-88bf-4766-bdbb-dbc53ee791ba",
   "metadata": {},
   "outputs": [
    {
     "name": "stdout",
     "output_type": "stream",
     "text": [
      "Jaccard Index for the top 4 features using Random Forest: 1.0000\n"
     ]
    }
   ],
   "source": [
    "# Define k the number of top features to compare\n",
    "k = 4\n",
    "\n",
    "# Extract top k features\n",
    "top_k_shap = shap_importances_sorted['Feature'][:k]\n",
    "top_k_pfi = pfi_importances_sorted['Feature'][:k]\n",
    "\n",
    "score = agreement_metric(top_k_shap, top_k_pfi)\n",
    "print(f\"Agreement metric for the top {k} features using Random Forest: {score:.4f}\")"
   ]
  },
  {
   "cell_type": "markdown",
   "id": "hKD6EvKnRIny",
   "metadata": {
    "id": "hKD6EvKnRIny"
   },
   "source": [
    "KAN Model"
   ]
  },
  {
   "cell_type": "code",
   "execution_count": null,
   "id": "ovqy3xd6RMa_",
   "metadata": {
    "colab": {
     "base_uri": "https://localhost:8080/"
    },
    "id": "ovqy3xd6RMa_",
    "outputId": "7260d500-b558-4212-e1fa-1545d80fadb6"
   },
   "outputs": [
    {
     "name": "stdout",
     "output_type": "stream",
     "text": [
      "checkpoint directory created: ./model\n",
      "saving model version 0.0\n"
     ]
    }
   ],
   "source": [
    "# Create the KAN model\n",
    "model = KAN(width=[11, 5, 1], grid=5, k=3, seed=0)  # one hidden layer with 5 neurons"
   ]
  },
  {
   "cell_type": "code",
   "execution_count": null,
   "id": "NDBCWcG_RMoh",
   "metadata": {
    "colab": {
     "base_uri": "https://localhost:8080/"
    },
    "id": "NDBCWcG_RMoh",
    "outputId": "f148dcdf-1840-40a1-93e8-c55dd71f3239"
   },
   "outputs": [
    {
     "name": "stderr",
     "output_type": "stream",
     "text": [
      "| train_loss: 8.99e+01 | test_loss: 8.96e+01 | reg: 1.02e+04 | : 100%|█| 50/50 [04:58<00:00,  5.96s/"
     ]
    },
    {
     "name": "stdout",
     "output_type": "stream",
     "text": [
      "saving model version 0.1\n"
     ]
    },
    {
     "name": "stderr",
     "output_type": "stream",
     "text": [
      "\n"
     ]
    }
   ],
   "source": [
    "results = model.fit(\n",
    "    {'train_input': train_input, 'train_label': train_label, 'test_input': val_input, 'test_label': val_label},\n",
    "    opt=\"LBFGS\", steps=50, loss_fn=torch.nn.MSELoss() # MSELoss for regression\n",
    ")"
   ]
  },
  {
   "cell_type": "code",
   "execution_count": null,
   "id": "dmfLHbCgRP8S",
   "metadata": {
    "colab": {
     "base_uri": "https://localhost:8080/",
     "height": 373
    },
    "id": "dmfLHbCgRP8S",
    "outputId": "d28665c7-d3f5-4d77-9690-e2b035053874"
   },
   "outputs": [
    {
     "name": "stdout",
     "output_type": "stream",
     "text": [
      "Train R2 Score: 0.7540810159248041\n",
      "Train MSE: 8075.8335\n",
      "Val R2 Score: 0.7517446483416751\n",
      "Val MSE: 8021.499\n",
      "Test R2 Score: 0.7519277774576953\n",
      "Test MSE: 8375.294\n"
     ]
    }
   ],
   "source": [
    "# Predictions of train, val and test datasets\n",
    "test_preds = model.forward(test_input).detach()\n",
    "test_labels = test_label\n",
    "\n",
    "train_preds = model.forward(train_input).detach()\n",
    "train_labels = train_label\n",
    "\n",
    "val_preds = model.forward(val_input).detach()\n",
    "val_labels = val_label\n",
    "\n",
    "# Evaluation metrics\n",
    "print(\"Train R2 Score:\", r2_score(train_labels.numpy(), train_preds.numpy()))\n",
    "print(\"Train MSE:\", mean_squared_error(train_labels.numpy(), train_preds.numpy()))\n",
    "\n",
    "print(\"Val R2 Score:\", r2_score(val_labels.numpy(), val_preds.numpy()))\n",
    "print(\"Val MSE:\", mean_squared_error(val_labels.numpy(), val_preds.numpy()))\n",
    "\n",
    "print(\"Test R2 Score:\", r2_score(test_labels.numpy(), test_preds.numpy()))\n",
    "print(\"Test MSE:\", mean_squared_error(test_labels.numpy(), test_preds.numpy()))"
   ]
  },
  {
   "cell_type": "markdown",
   "id": "TZvsQFt-RfUl",
   "metadata": {
    "id": "TZvsQFt-RfUl"
   },
   "source": [
    "PFI for KAN"
   ]
  },
  {
   "cell_type": "code",
   "execution_count": null,
   "id": "Kn2FTt6bRTC7",
   "metadata": {
    "id": "Kn2FTt6bRTC7",
    "outputId": "50a15ede-615d-4334-ddd6-097c3a147ac0"
   },
   "outputs": [
    {
     "name": "stdout",
     "output_type": "stream",
     "text": [
      "       Feature    Importance\n",
      "3           hr  34082.140927\n",
      "8         temp   5323.173197\n",
      "1           yr   4793.098838\n",
      "6   workingday   4268.833398\n",
      "9          hum   1029.401415\n",
      "2         mnth    739.199247\n",
      "7   weathersit    331.313203\n",
      "5      weekday    270.381109\n",
      "0       season    196.368974\n",
      "4      holiday     14.625951\n",
      "10   windspeed    -16.225525\n"
     ]
    },
    {
     "data": {
      "image/png": "[encoded data removed]",
      "text/plain": [
       "<Figure size 800x600 with 1 Axes>"
      ]
     },
     "metadata": {},
     "output_type": "display_data"
    }
   ],
   "source": [
    "\n",
    "# Function to evaluate model performance using MSE metric\n",
    "def evaluate_model(model, X, y):\n",
    "    model.eval()\n",
    "    with torch.no_grad():\n",
    "        predictions = model(torch.tensor(X, dtype=torch.float32)).numpy()\n",
    "    return mean_squared_error(y, predictions)\n",
    "\n",
    "# Calculate permutation feature importance (PFI)\n",
    "def permutation_importance(model, X, y, metric=evaluate_model, n_repeats=10):\n",
    "    baseline_score = metric(model, X, y)\n",
    "    importances = np.zeros(X.shape[1])\n",
    "\n",
    "    for i in range(X.shape[1]):\n",
    "        scores = []\n",
    "        for _ in range(n_repeats):\n",
    "            X_permuted = X.copy()\n",
    "            np.random.shuffle(X_permuted[:, i])\n",
    "            score = metric(model, X_permuted, y)\n",
    "            scores.append(score)\n",
    "        importances[i] = np.mean(scores) - baseline_score\n",
    "\n",
    "    return importances\n",
    "\n",
    "\n",
    "# Convert validation data to numpy arrays\n",
    "X_val_tensor = X_val.to_numpy()\n",
    "y_val_tensor = y_val.to_numpy()\n",
    "\n",
    "# Calculate feature importances\n",
    "pfi_importances_kan = permutation_importance(model, X_val_tensor, y_val_tensor)\n",
    "\n",
    "# Create DataFrame with feature importances\n",
    "feature_names = X_train.columns\n",
    "pfi_importance_kan_df = pd.DataFrame({\n",
    "    'Feature': feature_names,\n",
    "    'Importance': pfi_importances_kan\n",
    "}).sort_values(by='Importance', ascending=False)\n",
    "\n",
    "print(pfi_importances_kan_df)\n",
    "\n",
    "# Plot the feature importances\n",
    "plt.figure(figsize=(8, 6))\n",
    "plt.barh(pfi_importances_kan_df['Feature'], pfi_importances_kan_df['Importance'])\n",
    "plt.xlabel('Importance')\n",
    "plt.title('Permutation Feature Importance')\n",
    "plt.gca().invert_yaxis()\n",
    "plt.show()\n"
   ]
  },
  {
   "cell_type": "markdown",
   "id": "gNyq8WK3Rj-v",
   "metadata": {
    "id": "gNyq8WK3Rj-v"
   },
   "source": [
    "SHAP KAN"
   ]
  },
  {
   "cell_type": "code",
   "execution_count": null,
   "id": "KqE8m7p6RjQ8",
   "metadata": {
    "colab": {
     "referenced_widgets": [
      "b71a8dff664f4f1c87c8c22a165bf0e3"
     ]
    },
    "id": "KqE8m7p6RjQ8",
    "outputId": "0f4fffd3-a0e5-43c1-c499-f8a2914cf3b8"
   },
   "outputs": [
    {
     "data": {
      "application/vnd.jupyter.widget-view+json": {
       "model_id": "b71a8dff664f4f1c87c8c22a165bf0e3",
       "version_major": 2,
       "version_minor": 0
      },
      "text/plain": [
       "  0%|          | 0/100 [00:00<?, ?it/s]"
      ]
     },
     "metadata": {},
     "output_type": "display_data"
    },
    {
     "name": "stderr",
     "output_type": "stream",
     "text": [
      "C:\\Users\\lamia\\anaconda3\\Lib\\site-packages\\kan\\MultKAN.py:798: UserWarning: std(): degrees of freedom is <= 0. Correction should be strictly less than the reduction factor (input numel divided by output numel). (Triggered internally at C:\\actions-runner\\_work\\pytorch\\pytorch\\builder\\windows\\pytorch\\aten\\src\\ATen\\native\\ReduceOps.cpp:1808.)\n",
      "  self.subnode_actscale.append(torch.std(x, dim=0).detach())\n",
      "C:\\Users\\lamia\\anaconda3\\Lib\\site-packages\\kan\\MultKAN.py:808: UserWarning: std(): degrees of freedom is <= 0. Correction should be strictly less than the reduction factor (input numel divided by output numel). (Triggered internally at C:\\actions-runner\\_work\\pytorch\\pytorch\\builder\\windows\\pytorch\\aten\\src\\ATen\\native\\ReduceOps.cpp:1808.)\n",
      "  input_range = torch.std(preacts, dim=0) + 0.1\n",
      "C:\\Users\\lamia\\anaconda3\\Lib\\site-packages\\kan\\MultKAN.py:809: UserWarning: std(): degrees of freedom is <= 0. Correction should be strictly less than the reduction factor (input numel divided by output numel). (Triggered internally at C:\\actions-runner\\_work\\pytorch\\pytorch\\builder\\windows\\pytorch\\aten\\src\\ATen\\native\\ReduceOps.cpp:1808.)\n",
      "  output_range_spline = torch.std(postacts_numerical, dim=0) # for training, only penalize the spline part\n",
      "C:\\Users\\lamia\\anaconda3\\Lib\\site-packages\\kan\\MultKAN.py:810: UserWarning: std(): degrees of freedom is <= 0. Correction should be strictly less than the reduction factor (input numel divided by output numel). (Triggered internally at C:\\actions-runner\\_work\\pytorch\\pytorch\\builder\\windows\\pytorch\\aten\\src\\ATen\\native\\ReduceOps.cpp:1808.)\n",
      "  output_range = torch.std(postacts, dim=0) # for visualization, include the contribution from both spline + symbolic\n"
     ]
    },
    {
     "data": {
      "image/png": "[encoded data removed]",
      "text/plain": [
       "<Figure size 800x590 with 2 Axes>"
      ]
     },
     "metadata": {},
     "output_type": "display_data"
    }
   ],
   "source": [
    "\n",
    "# Prediction function\n",
    "def predict(data):\n",
    "    data_tensor = torch.tensor(data, dtype=torch.float32)\n",
    "    with torch.no_grad():\n",
    "        preds = model(data_tensor).numpy()\n",
    "    return preds\n",
    "\n",
    "# Sampling data\n",
    "X_train_subset = X_train.sample(100, random_state=42).to_numpy()\n",
    "X_test_subset = X_test.sample(100, random_state=42).to_numpy()\n",
    "\n",
    "explainer = shap.KernelExplainer(predict, X_train_subset)\n",
    "\n",
    "shap_values = explainer.shap_values(X_test_subset)\n",
    "\n",
    "if isinstance(shap_values, list):\n",
    "    shap_values = shap_values[0]\n",
    "\n",
    "shap_values = np.squeeze(shap_values)\n",
    "\n",
    "shap_df_kan= pd.DataFrame(shap_values, columns=X_test.columns)\n",
    "\n",
    "# Plot SHAP summary plot\n",
    "shap.summary_plot(shap_values, X_test_subset, feature_names=X_test.columns)"
   ]
  },
  {
   "cell_type": "markdown",
   "id": "iUW5gfJrH5CV",
   "metadata": {
    "id": "iUW5gfJrH5CV"
   },
   "source": [
    "Agreement metric"
   ]
  },
  {
   "cell_type": "code",
   "execution_count": null,
   "id": "_UaGI4IxH4jF",
   "metadata": {
    "id": "_UaGI4IxH4jF"
   },
   "outputs": [
    {
     "name": "stdout",
     "output_type": "stream",
     "text": [
      "Jaccard Index for the top 4 features using KAN: 1.0000\n"
     ]
    }
   ],
   "source": [
    "#Creating lists of top k features of shap and pfi for KAN\n",
    "k = 4\n",
    "top_k_pfi_features_kan = ['hr', 'temp', 'yr', 'workingday']\n",
    "top_k_shap_features_kan = ['hr', 'temp', 'yr', 'workingday']\n",
    "\n",
    "# Compute the agreement metric for the top k features\n",
    "score_kan = agreement_metric(top_k_shap_features_kan, top_k_pfi_features_kan)\n",
    "print(f\"Jaccard Index for the top {k} features using KAN: {score_kan:.4f}\")"
   ]
  }
 ],
 "metadata": {
  "colab": {
   "provenance": []
  },
  "kernelspec": {
   "display_name": "Python 3 (ipykernel)",
   "language": "python",
   "name": "python3"
  },
  "language_info": {
   "codemirror_mode": {
    "name": "ipython",
    "version": 3
   },
   "file_extension": ".py",
   "mimetype": "text/x-python",
   "name": "python",
   "nbconvert_exporter": "python",
   "pygments_lexer": "ipython3",
   "version": "3.12.4"
  }
 },
 "nbformat": 4,
 "nbformat_minor": 5
}

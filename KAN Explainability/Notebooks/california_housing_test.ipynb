{
 "cells": [
  {
   "cell_type": "markdown",
   "id": "79ba7b73",
   "metadata": {},
   "source": [
    "In this notebook we evaluate the explainability of two models : KAN and Random Forest, on the California Housing dataset from Scikit-learn. To do this, we'll be using two popular methods, SHAP and PFI."
   ]
  },
  {
   "cell_type": "code",
   "execution_count": null,
   "id": "731728dc-c7d8-4770-b2e4-c0cf07d8ade9",
   "metadata": {
    "colab": {
     "base_uri": "https://localhost:8080/"
    },
    "id": "731728dc-c7d8-4770-b2e4-c0cf07d8ade9",
    "outputId": "bb9f0ba2-3144-418e-c3b7-01696a728413"
   },
   "outputs": [
    {
     "name": "stdout",
     "output_type": "stream",
     "text": [
      "Collecting git+https://github.com/KindXiaoming/pykan.git\n",
      "  Cloning https://github.com/KindXiaoming/pykan.git to /tmp/pip-req-build-uxpkc3sh\n",
      "  Running command git clone --filter=blob:none --quiet https://github.com/KindXiaoming/pykan.git /tmp/pip-req-build-uxpkc3sh\n",
      "  Resolved https://github.com/KindXiaoming/pykan.git to commit d51e849bc7e95bc9733d4259e61192ba9bffa697\n",
      "  Preparing metadata (setup.py) ... \u001b[?25l\u001b[?25hdone\n",
      "Building wheels for collected packages: pykan\n",
      "  Building wheel for pykan (setup.py) ... \u001b[?25l\u001b[?25hdone\n",
      "  Created wheel for pykan: filename=pykan-0.2.8-py3-none-any.whl size=78190 sha256=84797eb416c37aa2b2f997ccc8f75d469485a4023f215b07310814726f6174c6\n",
      "  Stored in directory: /tmp/pip-ephem-wheel-cache-49t2evbl/wheels/47/ca/5a/98124e020f3119f51c17f78738c621c140b7aa803b0feda76e\n",
      "Successfully built pykan\n",
      "Installing collected packages: pykan\n",
      "Successfully installed pykan-0.2.8\n"
     ]
    }
   ],
   "source": [
    "!pip install git+https://github.com/KindXiaoming/pykan.git #Importing the KAN code from github"
   ]
  },
  {
   "cell_type": "markdown",
   "id": "e8de5cb0",
   "metadata": {},
   "source": [
    "Import packages"
   ]
  },
  {
   "cell_type": "code",
   "execution_count": 2,
   "id": "00fd09e9-374d-4891-aacc-1c99c669090b",
   "metadata": {
    "id": "00fd09e9-374d-4891-aacc-1c99c669090b"
   },
   "outputs": [],
   "source": [
    "from kan import KAN\n",
    "import pandas as pd\n",
    "import numpy as np\n",
    "import torch\n",
    "import matplotlib.pyplot as plt\n",
    "from sklearn import datasets\n",
    "from sklearn.model_selection import train_test_split, GridSearchCV\n",
    "from sklearn.ensemble import RandomForestRegressor\n",
    "from sklearn.metrics import mean_squared_error, r2_score\n",
    "from sklearn.inspection import permutation_importance\n",
    "import shap"
   ]
  },
  {
   "cell_type": "markdown",
   "id": "dlMzIFOki7Ci",
   "metadata": {
    "id": "dlMzIFOki7Ci"
   },
   "source": [
    "Data Analysis and Cleaning"
   ]
  },
  {
   "cell_type": "code",
   "execution_count": null,
   "id": "78f65a79-1894-4352-956b-a46cc7c9a965",
   "metadata": {
    "id": "78f65a79-1894-4352-956b-a46cc7c9a965"
   },
   "outputs": [],
   "source": [
    "housing_data = datasets.fetch_california_housing()"
   ]
  },
  {
   "cell_type": "code",
   "execution_count": null,
   "id": "fa1afb3d-b9ea-4f8c-865e-a3d38da7e360",
   "metadata": {
    "colab": {
     "base_uri": "https://localhost:8080/",
     "height": 423
    },
    "id": "fa1afb3d-b9ea-4f8c-865e-a3d38da7e360",
    "outputId": "3c9c4747-23fd-4d50-f4e7-f4e657eb54fc"
   },
   "outputs": [
    {
     "data": {
      "application/vnd.google.colaboratory.intrinsic+json": {
       "summary": "{\n  \"name\": \"df\",\n  \"rows\": 20640,\n  \"fields\": [\n    {\n      \"column\": \"MedInc\",\n      \"properties\": {\n        \"dtype\": \"number\",\n        \"std\": 1.8998217179452732,\n        \"min\": 0.4999,\n        \"max\": 15.0001,\n        \"num_unique_values\": 12928,\n        \"samples\": [\n          5.0286,\n          2.0433,\n          6.1228\n        ],\n        \"semantic_type\": \"\",\n        \"description\": \"\"\n      }\n    },\n    {\n      \"column\": \"HouseAge\",\n      \"properties\": {\n        \"dtype\": \"number\",\n        \"std\": 12.585557612111637,\n        \"min\": 1.0,\n        \"max\": 52.0,\n        \"num_unique_values\": 52,\n        \"samples\": [\n          35.0,\n          25.0,\n          7.0\n        ],\n        \"semantic_type\": \"\",\n        \"description\": \"\"\n      }\n    },\n    {\n      \"column\": \"AveRooms\",\n      \"properties\": {\n        \"dtype\": \"number\",\n        \"std\": 2.4741731394243205,\n        \"min\": 0.8461538461538461,\n        \"max\": 141.9090909090909,\n        \"num_unique_values\": 19392,\n        \"samples\": [\n          6.111269614835948,\n          5.912820512820513,\n          5.7924528301886795\n        ],\n        \"semantic_type\": \"\",\n        \"description\": \"\"\n      }\n    },\n    {\n      \"column\": \"AveBedrms\",\n      \"properties\": {\n        \"dtype\": \"number\",\n        \"std\": 0.47391085679546435,\n        \"min\": 0.3333333333333333,\n        \"max\": 34.06666666666667,\n        \"num_unique_values\": 14233,\n        \"samples\": [\n          0.9906542056074766,\n          1.112099644128114,\n          1.0398230088495575\n        ],\n        \"semantic_type\": \"\",\n        \"description\": \"\"\n      }\n    },\n    {\n      \"column\": \"Population\",\n      \"properties\": {\n        \"dtype\": \"number\",\n        \"std\": 1132.4621217653375,\n        \"min\": 3.0,\n        \"max\": 35682.0,\n        \"num_unique_values\": 3888,\n        \"samples\": [\n          4169.0,\n          636.0,\n          3367.0\n        ],\n        \"semantic_type\": \"\",\n        \"description\": \"\"\n      }\n    },\n    {\n      \"column\": \"AveOccup\",\n      \"properties\": {\n        \"dtype\": \"number\",\n        \"std\": 10.386049562213591,\n        \"min\": 0.6923076923076923,\n        \"max\": 1243.3333333333333,\n        \"num_unique_values\": 18841,\n        \"samples\": [\n          2.6939799331103678,\n          3.559375,\n          3.297082228116711\n        ],\n        \"semantic_type\": \"\",\n        \"description\": \"\"\n      }\n    },\n    {\n      \"column\": \"Latitude\",\n      \"properties\": {\n        \"dtype\": \"number\",\n        \"std\": 2.1359523974571117,\n        \"min\": 32.54,\n        \"max\": 41.95,\n        \"num_unique_values\": 862,\n        \"samples\": [\n          33.7,\n          34.41,\n          38.24\n        ],\n        \"semantic_type\": \"\",\n        \"description\": \"\"\n      }\n    },\n    {\n      \"column\": \"Longitude\",\n      \"properties\": {\n        \"dtype\": \"number\",\n        \"std\": 2.003531723502581,\n        \"min\": -124.35,\n        \"max\": -114.31,\n        \"num_unique_values\": 844,\n        \"samples\": [\n          -118.63,\n          -119.86,\n          -121.26\n        ],\n        \"semantic_type\": \"\",\n        \"description\": \"\"\n      }\n    },\n    {\n      \"column\": \"Target\",\n      \"properties\": {\n        \"dtype\": \"number\",\n        \"std\": 1.1539561587441483,\n        \"min\": 0.14999,\n        \"max\": 5.00001,\n        \"num_unique_values\": 3842,\n        \"samples\": [\n          1.943,\n          3.79,\n          2.301\n        ],\n        \"semantic_type\": \"\",\n        \"description\": \"\"\n      }\n    }\n  ]\n}",
       "type": "dataframe",
       "variable_name": "df"
      },
      "text/html": [
       "\n",
       "  <div id=\"df-db683b2a-cefc-4d7d-9ad5-16d56b050db7\" class=\"colab-df-container\">\n",
       "    <div>\n",
       "<style scoped>\n",
       "    .dataframe tbody tr th:only-of-type {\n",
       "        vertical-align: middle;\n",
       "    }\n",
       "\n",
       "    .dataframe tbody tr th {\n",
       "        vertical-align: top;\n",
       "    }\n",
       "\n",
       "    .dataframe thead th {\n",
       "        text-align: right;\n",
       "    }\n",
       "</style>\n",
       "<table border=\"1\" class=\"dataframe\">\n",
       "  <thead>\n",
       "    <tr style=\"text-align: right;\">\n",
       "      <th></th>\n",
       "      <th>MedInc</th>\n",
       "      <th>HouseAge</th>\n",
       "      <th>AveRooms</th>\n",
       "      <th>AveBedrms</th>\n",
       "      <th>Population</th>\n",
       "      <th>AveOccup</th>\n",
       "      <th>Latitude</th>\n",
       "      <th>Longitude</th>\n",
       "      <th>Target</th>\n",
       "    </tr>\n",
       "  </thead>\n",
       "  <tbody>\n",
       "    <tr>\n",
       "      <th>0</th>\n",
       "      <td>8.3252</td>\n",
       "      <td>41.0</td>\n",
       "      <td>6.984127</td>\n",
       "      <td>1.023810</td>\n",
       "      <td>322.0</td>\n",
       "      <td>2.555556</td>\n",
       "      <td>37.88</td>\n",
       "      <td>-122.23</td>\n",
       "      <td>4.526</td>\n",
       "    </tr>\n",
       "    <tr>\n",
       "      <th>1</th>\n",
       "      <td>8.3014</td>\n",
       "      <td>21.0</td>\n",
       "      <td>6.238137</td>\n",
       "      <td>0.971880</td>\n",
       "      <td>2401.0</td>\n",
       "      <td>2.109842</td>\n",
       "      <td>37.86</td>\n",
       "      <td>-122.22</td>\n",
       "      <td>3.585</td>\n",
       "    </tr>\n",
       "    <tr>\n",
       "      <th>2</th>\n",
       "      <td>7.2574</td>\n",
       "      <td>52.0</td>\n",
       "      <td>8.288136</td>\n",
       "      <td>1.073446</td>\n",
       "      <td>496.0</td>\n",
       "      <td>2.802260</td>\n",
       "      <td>37.85</td>\n",
       "      <td>-122.24</td>\n",
       "      <td>3.521</td>\n",
       "    </tr>\n",
       "    <tr>\n",
       "      <th>3</th>\n",
       "      <td>5.6431</td>\n",
       "      <td>52.0</td>\n",
       "      <td>5.817352</td>\n",
       "      <td>1.073059</td>\n",
       "      <td>558.0</td>\n",
       "      <td>2.547945</td>\n",
       "      <td>37.85</td>\n",
       "      <td>-122.25</td>\n",
       "      <td>3.413</td>\n",
       "    </tr>\n",
       "    <tr>\n",
       "      <th>4</th>\n",
       "      <td>3.8462</td>\n",
       "      <td>52.0</td>\n",
       "      <td>6.281853</td>\n",
       "      <td>1.081081</td>\n",
       "      <td>565.0</td>\n",
       "      <td>2.181467</td>\n",
       "      <td>37.85</td>\n",
       "      <td>-122.25</td>\n",
       "      <td>3.422</td>\n",
       "    </tr>\n",
       "    <tr>\n",
       "      <th>...</th>\n",
       "      <td>...</td>\n",
       "      <td>...</td>\n",
       "      <td>...</td>\n",
       "      <td>...</td>\n",
       "      <td>...</td>\n",
       "      <td>...</td>\n",
       "      <td>...</td>\n",
       "      <td>...</td>\n",
       "      <td>...</td>\n",
       "    </tr>\n",
       "    <tr>\n",
       "      <th>20635</th>\n",
       "      <td>1.5603</td>\n",
       "      <td>25.0</td>\n",
       "      <td>5.045455</td>\n",
       "      <td>1.133333</td>\n",
       "      <td>845.0</td>\n",
       "      <td>2.560606</td>\n",
       "      <td>39.48</td>\n",
       "      <td>-121.09</td>\n",
       "      <td>0.781</td>\n",
       "    </tr>\n",
       "    <tr>\n",
       "      <th>20636</th>\n",
       "      <td>2.5568</td>\n",
       "      <td>18.0</td>\n",
       "      <td>6.114035</td>\n",
       "      <td>1.315789</td>\n",
       "      <td>356.0</td>\n",
       "      <td>3.122807</td>\n",
       "      <td>39.49</td>\n",
       "      <td>-121.21</td>\n",
       "      <td>0.771</td>\n",
       "    </tr>\n",
       "    <tr>\n",
       "      <th>20637</th>\n",
       "      <td>1.7000</td>\n",
       "      <td>17.0</td>\n",
       "      <td>5.205543</td>\n",
       "      <td>1.120092</td>\n",
       "      <td>1007.0</td>\n",
       "      <td>2.325635</td>\n",
       "      <td>39.43</td>\n",
       "      <td>-121.22</td>\n",
       "      <td>0.923</td>\n",
       "    </tr>\n",
       "    <tr>\n",
       "      <th>20638</th>\n",
       "      <td>1.8672</td>\n",
       "      <td>18.0</td>\n",
       "      <td>5.329513</td>\n",
       "      <td>1.171920</td>\n",
       "      <td>741.0</td>\n",
       "      <td>2.123209</td>\n",
       "      <td>39.43</td>\n",
       "      <td>-121.32</td>\n",
       "      <td>0.847</td>\n",
       "    </tr>\n",
       "    <tr>\n",
       "      <th>20639</th>\n",
       "      <td>2.3886</td>\n",
       "      <td>16.0</td>\n",
       "      <td>5.254717</td>\n",
       "      <td>1.162264</td>\n",
       "      <td>1387.0</td>\n",
       "      <td>2.616981</td>\n",
       "      <td>39.37</td>\n",
       "      <td>-121.24</td>\n",
       "      <td>0.894</td>\n",
       "    </tr>\n",
       "  </tbody>\n",
       "</table>\n",
       "<p>20640 rows × 9 columns</p>\n",
       "</div>\n",
       "    <div class=\"colab-df-buttons\">\n",
       "\n",
       "  <div class=\"colab-df-container\">\n",
       "    <button class=\"colab-df-convert\" onclick=\"convertToInteractive('df-db683b2a-cefc-4d7d-9ad5-16d56b050db7')\"\n",
       "            title=\"Convert this dataframe to an interactive table.\"\n",
       "            style=\"display:none;\">\n",
       "\n",
       "  <svg xmlns=\"http://www.w3.org/2000/svg\" height=\"24px\" viewBox=\"0 -960 960 960\">\n",
       "    <path d=\"M120-120v-720h720v720H120Zm60-500h600v-160H180v160Zm220 220h160v-160H400v160Zm0 220h160v-160H400v160ZM180-400h160v-160H180v160Zm440 0h160v-160H620v160ZM180-180h160v-160H180v160Zm440 0h160v-160H620v160Z\"/>\n",
       "  </svg>\n",
       "    </button>\n",
       "\n",
       "  <style>\n",
       "    .colab-df-container {\n",
       "      display:flex;\n",
       "      gap: 12px;\n",
       "    }\n",
       "\n",
       "    .colab-df-convert {\n",
       "      background-color: #E8F0FE;\n",
       "      border: none;\n",
       "      border-radius: 50%;\n",
       "      cursor: pointer;\n",
       "      display: none;\n",
       "      fill: #1967D2;\n",
       "      height: 32px;\n",
       "      padding: 0 0 0 0;\n",
       "      width: 32px;\n",
       "    }\n",
       "\n",
       "    .colab-df-convert:hover {\n",
       "      background-color: #E2EBFA;\n",
       "      box-shadow: 0px 1px 2px rgba(60, 64, 67, 0.3), 0px 1px 3px 1px rgba(60, 64, 67, 0.15);\n",
       "      fill: #174EA6;\n",
       "    }\n",
       "\n",
       "    .colab-df-buttons div {\n",
       "      margin-bottom: 4px;\n",
       "    }\n",
       "\n",
       "    [theme=dark] .colab-df-convert {\n",
       "      background-color: #3B4455;\n",
       "      fill: #D2E3FC;\n",
       "    }\n",
       "\n",
       "    [theme=dark] .colab-df-convert:hover {\n",
       "      background-color: #434B5C;\n",
       "      box-shadow: 0px 1px 3px 1px rgba(0, 0, 0, 0.15);\n",
       "      filter: drop-shadow(0px 1px 2px rgba(0, 0, 0, 0.3));\n",
       "      fill: #FFFFFF;\n",
       "    }\n",
       "  </style>\n",
       "\n",
       "    <script>\n",
       "      const buttonEl =\n",
       "        document.querySelector('#df-db683b2a-cefc-4d7d-9ad5-16d56b050db7 button.colab-df-convert');\n",
       "      buttonEl.style.display =\n",
       "        google.colab.kernel.accessAllowed ? 'block' : 'none';\n",
       "\n",
       "      async function convertToInteractive(key) {\n",
       "        const element = document.querySelector('#df-db683b2a-cefc-4d7d-9ad5-16d56b050db7');\n",
       "        const dataTable =\n",
       "          await google.colab.kernel.invokeFunction('convertToInteractive',\n",
       "                                                    [key], {});\n",
       "        if (!dataTable) return;\n",
       "\n",
       "        const docLinkHtml = 'Like what you see? Visit the ' +\n",
       "          '<a target=\"_blank\" href=https://colab.research.google.com/notebooks/data_table.ipynb>data table notebook</a>'\n",
       "          + ' to learn more about interactive tables.';\n",
       "        element.innerHTML = '';\n",
       "        dataTable['output_type'] = 'display_data';\n",
       "        await google.colab.output.renderOutput(dataTable, element);\n",
       "        const docLink = document.createElement('div');\n",
       "        docLink.innerHTML = docLinkHtml;\n",
       "        element.appendChild(docLink);\n",
       "      }\n",
       "    </script>\n",
       "  </div>\n",
       "\n",
       "\n",
       "<div id=\"df-00063c42-0289-4650-98c1-0da398d052a8\">\n",
       "  <button class=\"colab-df-quickchart\" onclick=\"quickchart('df-00063c42-0289-4650-98c1-0da398d052a8')\"\n",
       "            title=\"Suggest charts\"\n",
       "            style=\"display:none;\">\n",
       "\n",
       "<svg xmlns=\"http://www.w3.org/2000/svg\" height=\"24px\"viewBox=\"0 0 24 24\"\n",
       "     width=\"24px\">\n",
       "    <g>\n",
       "        <path d=\"M19 3H5c-1.1 0-2 .9-2 2v14c0 1.1.9 2 2 2h14c1.1 0 2-.9 2-2V5c0-1.1-.9-2-2-2zM9 17H7v-7h2v7zm4 0h-2V7h2v10zm4 0h-2v-4h2v4z\"/>\n",
       "    </g>\n",
       "</svg>\n",
       "  </button>\n",
       "\n",
       "<style>\n",
       "  .colab-df-quickchart {\n",
       "      --bg-color: #E8F0FE;\n",
       "      --fill-color: #1967D2;\n",
       "      --hover-bg-color: #E2EBFA;\n",
       "      --hover-fill-color: #174EA6;\n",
       "      --disabled-fill-color: #AAA;\n",
       "      --disabled-bg-color: #DDD;\n",
       "  }\n",
       "\n",
       "  [theme=dark] .colab-df-quickchart {\n",
       "      --bg-color: #3B4455;\n",
       "      --fill-color: #D2E3FC;\n",
       "      --hover-bg-color: #434B5C;\n",
       "      --hover-fill-color: #FFFFFF;\n",
       "      --disabled-bg-color: #3B4455;\n",
       "      --disabled-fill-color: #666;\n",
       "  }\n",
       "\n",
       "  .colab-df-quickchart {\n",
       "    background-color: var(--bg-color);\n",
       "    border: none;\n",
       "    border-radius: 50%;\n",
       "    cursor: pointer;\n",
       "    display: none;\n",
       "    fill: var(--fill-color);\n",
       "    height: 32px;\n",
       "    padding: 0;\n",
       "    width: 32px;\n",
       "  }\n",
       "\n",
       "  .colab-df-quickchart:hover {\n",
       "    background-color: var(--hover-bg-color);\n",
       "    box-shadow: 0 1px 2px rgba(60, 64, 67, 0.3), 0 1px 3px 1px rgba(60, 64, 67, 0.15);\n",
       "    fill: var(--button-hover-fill-color);\n",
       "  }\n",
       "\n",
       "  .colab-df-quickchart-complete:disabled,\n",
       "  .colab-df-quickchart-complete:disabled:hover {\n",
       "    background-color: var(--disabled-bg-color);\n",
       "    fill: var(--disabled-fill-color);\n",
       "    box-shadow: none;\n",
       "  }\n",
       "\n",
       "  .colab-df-spinner {\n",
       "    border: 2px solid var(--fill-color);\n",
       "    border-color: transparent;\n",
       "    border-bottom-color: var(--fill-color);\n",
       "    animation:\n",
       "      spin 1s steps(1) infinite;\n",
       "  }\n",
       "\n",
       "  @keyframes spin {\n",
       "    0% {\n",
       "      border-color: transparent;\n",
       "      border-bottom-color: var(--fill-color);\n",
       "      border-left-color: var(--fill-color);\n",
       "    }\n",
       "    20% {\n",
       "      border-color: transparent;\n",
       "      border-left-color: var(--fill-color);\n",
       "      border-top-color: var(--fill-color);\n",
       "    }\n",
       "    30% {\n",
       "      border-color: transparent;\n",
       "      border-left-color: var(--fill-color);\n",
       "      border-top-color: var(--fill-color);\n",
       "      border-right-color: var(--fill-color);\n",
       "    }\n",
       "    40% {\n",
       "      border-color: transparent;\n",
       "      border-right-color: var(--fill-color);\n",
       "      border-top-color: var(--fill-color);\n",
       "    }\n",
       "    60% {\n",
       "      border-color: transparent;\n",
       "      border-right-color: var(--fill-color);\n",
       "    }\n",
       "    80% {\n",
       "      border-color: transparent;\n",
       "      border-right-color: var(--fill-color);\n",
       "      border-bottom-color: var(--fill-color);\n",
       "    }\n",
       "    90% {\n",
       "      border-color: transparent;\n",
       "      border-bottom-color: var(--fill-color);\n",
       "    }\n",
       "  }\n",
       "</style>\n",
       "\n",
       "  <script>\n",
       "    async function quickchart(key) {\n",
       "      const quickchartButtonEl =\n",
       "        document.querySelector('#' + key + ' button');\n",
       "      quickchartButtonEl.disabled = true;  // To prevent multiple clicks.\n",
       "      quickchartButtonEl.classList.add('colab-df-spinner');\n",
       "      try {\n",
       "        const charts = await google.colab.kernel.invokeFunction(\n",
       "            'suggestCharts', [key], {});\n",
       "      } catch (error) {\n",
       "        console.error('Error during call to suggestCharts:', error);\n",
       "      }\n",
       "      quickchartButtonEl.classList.remove('colab-df-spinner');\n",
       "      quickchartButtonEl.classList.add('colab-df-quickchart-complete');\n",
       "    }\n",
       "    (() => {\n",
       "      let quickchartButtonEl =\n",
       "        document.querySelector('#df-00063c42-0289-4650-98c1-0da398d052a8 button');\n",
       "      quickchartButtonEl.style.display =\n",
       "        google.colab.kernel.accessAllowed ? 'block' : 'none';\n",
       "    })();\n",
       "  </script>\n",
       "</div>\n",
       "\n",
       "  <div id=\"id_67bf35ee-9552-4eca-9bac-f17120e9f7ca\">\n",
       "    <style>\n",
       "      .colab-df-generate {\n",
       "        background-color: #E8F0FE;\n",
       "        border: none;\n",
       "        border-radius: 50%;\n",
       "        cursor: pointer;\n",
       "        display: none;\n",
       "        fill: #1967D2;\n",
       "        height: 32px;\n",
       "        padding: 0 0 0 0;\n",
       "        width: 32px;\n",
       "      }\n",
       "\n",
       "      .colab-df-generate:hover {\n",
       "        background-color: #E2EBFA;\n",
       "        box-shadow: 0px 1px 2px rgba(60, 64, 67, 0.3), 0px 1px 3px 1px rgba(60, 64, 67, 0.15);\n",
       "        fill: #174EA6;\n",
       "      }\n",
       "\n",
       "      [theme=dark] .colab-df-generate {\n",
       "        background-color: #3B4455;\n",
       "        fill: #D2E3FC;\n",
       "      }\n",
       "\n",
       "      [theme=dark] .colab-df-generate:hover {\n",
       "        background-color: #434B5C;\n",
       "        box-shadow: 0px 1px 3px 1px rgba(0, 0, 0, 0.15);\n",
       "        filter: drop-shadow(0px 1px 2px rgba(0, 0, 0, 0.3));\n",
       "        fill: #FFFFFF;\n",
       "      }\n",
       "    </style>\n",
       "    <button class=\"colab-df-generate\" onclick=\"generateWithVariable('df')\"\n",
       "            title=\"Generate code using this dataframe.\"\n",
       "            style=\"display:none;\">\n",
       "\n",
       "  <svg xmlns=\"http://www.w3.org/2000/svg\" height=\"24px\"viewBox=\"0 0 24 24\"\n",
       "       width=\"24px\">\n",
       "    <path d=\"M7,19H8.4L18.45,9,17,7.55,7,17.6ZM5,21V16.75L18.45,3.32a2,2,0,0,1,2.83,0l1.4,1.43a1.91,1.91,0,0,1,.58,1.4,1.91,1.91,0,0,1-.58,1.4L9.25,21ZM18.45,9,17,7.55Zm-12,3A5.31,5.31,0,0,0,4.9,8.1,5.31,5.31,0,0,0,1,6.5,5.31,5.31,0,0,0,4.9,4.9,5.31,5.31,0,0,0,6.5,1,5.31,5.31,0,0,0,8.1,4.9,5.31,5.31,0,0,0,12,6.5,5.46,5.46,0,0,0,6.5,12Z\"/>\n",
       "  </svg>\n",
       "    </button>\n",
       "    <script>\n",
       "      (() => {\n",
       "      const buttonEl =\n",
       "        document.querySelector('#id_67bf35ee-9552-4eca-9bac-f17120e9f7ca button.colab-df-generate');\n",
       "      buttonEl.style.display =\n",
       "        google.colab.kernel.accessAllowed ? 'block' : 'none';\n",
       "\n",
       "      buttonEl.onclick = () => {\n",
       "        google.colab.notebook.generateWithVariable('df');\n",
       "      }\n",
       "      })();\n",
       "    </script>\n",
       "  </div>\n",
       "\n",
       "    </div>\n",
       "  </div>\n"
      ],
      "text/plain": [
       "       MedInc  HouseAge  AveRooms  AveBedrms  Population  AveOccup  Latitude  \\\n",
       "0      8.3252      41.0  6.984127   1.023810       322.0  2.555556     37.88   \n",
       "1      8.3014      21.0  6.238137   0.971880      2401.0  2.109842     37.86   \n",
       "2      7.2574      52.0  8.288136   1.073446       496.0  2.802260     37.85   \n",
       "3      5.6431      52.0  5.817352   1.073059       558.0  2.547945     37.85   \n",
       "4      3.8462      52.0  6.281853   1.081081       565.0  2.181467     37.85   \n",
       "...       ...       ...       ...        ...         ...       ...       ...   \n",
       "20635  1.5603      25.0  5.045455   1.133333       845.0  2.560606     39.48   \n",
       "20636  2.5568      18.0  6.114035   1.315789       356.0  3.122807     39.49   \n",
       "20637  1.7000      17.0  5.205543   1.120092      1007.0  2.325635     39.43   \n",
       "20638  1.8672      18.0  5.329513   1.171920       741.0  2.123209     39.43   \n",
       "20639  2.3886      16.0  5.254717   1.162264      1387.0  2.616981     39.37   \n",
       "\n",
       "       Longitude  Target  \n",
       "0        -122.23   4.526  \n",
       "1        -122.22   3.585  \n",
       "2        -122.24   3.521  \n",
       "3        -122.25   3.413  \n",
       "4        -122.25   3.422  \n",
       "...          ...     ...  \n",
       "20635    -121.09   0.781  \n",
       "20636    -121.21   0.771  \n",
       "20637    -121.22   0.923  \n",
       "20638    -121.32   0.847  \n",
       "20639    -121.24   0.894  \n",
       "\n",
       "[20640 rows x 9 columns]"
      ]
     },
     "execution_count": 15,
     "metadata": {},
     "output_type": "execute_result"
    }
   ],
   "source": [
    "# Create a DataFrame using the data and feature names\n",
    "df = pd.DataFrame(data=housing_data.data, columns=housing_data.feature_names)\n",
    "df['Target'] = housing_data.target\n",
    "df"
   ]
  },
  {
   "cell_type": "code",
   "execution_count": null,
   "id": "d5c07202-fc3f-469e-8c41-3207c257a3c1",
   "metadata": {
    "id": "d5c07202-fc3f-469e-8c41-3207c257a3c1"
   },
   "outputs": [],
   "source": [
    "X = df.drop('Target', axis=1)\n",
    "y = df['Target']\n",
    "\n",
    "X.dropna(inplace=True)\n",
    "y.dropna(inplace=True)\n",
    "y = y[X.index]  # Align y with the remaining X"
   ]
  },
  {
   "cell_type": "code",
   "execution_count": null,
   "id": "ea28ae48-4751-4805-8c47-8863c3cad0b4",
   "metadata": {
    "id": "ea28ae48-4751-4805-8c47-8863c3cad0b4"
   },
   "outputs": [],
   "source": [
    "# Splitting the data\n",
    "X_train, X_temp, y_train, y_temp = train_test_split(X, y, test_size=0.3, random_state=0)\n",
    "X_val, X_test, y_val, y_test = train_test_split(X_temp, y_temp, test_size=0.5, random_state=0)"
   ]
  },
  {
   "cell_type": "code",
   "execution_count": null,
   "id": "ae4b7010-603f-45f8-bcbd-6537629970b7",
   "metadata": {
    "id": "ae4b7010-603f-45f8-bcbd-6537629970b7"
   },
   "outputs": [],
   "source": [
    "# Drop NaNs in X_train, X_val, and X_test\n",
    "X_train.dropna(inplace=True)\n",
    "X_val.dropna(inplace=True)\n",
    "X_test.dropna(inplace=True)\n",
    "\n",
    "y_train.dropna(inplace=True)\n",
    "y_val.dropna(inplace=True)\n",
    "y_test.dropna(inplace=True)"
   ]
  },
  {
   "cell_type": "code",
   "execution_count": null,
   "id": "516ba49f-de46-48de-af68-3285f8afaf0e",
   "metadata": {
    "id": "516ba49f-de46-48de-af68-3285f8afaf0e"
   },
   "outputs": [],
   "source": [
    "# transforming the data\n",
    "train_input = torch.tensor(X_train.to_numpy(), dtype=torch.float32)\n",
    "train_label = torch.tensor(y_train.to_numpy(), dtype=torch.float32).view(-1, 1)\n",
    "val_input = torch.tensor(X_val.to_numpy(), dtype=torch.float32)\n",
    "val_label = torch.tensor(y_val.to_numpy(), dtype=torch.float32).view(-1, 1)\n",
    "test_input = torch.tensor(X_test.to_numpy(), dtype=torch.float32)\n",
    "test_label = torch.tensor(y_test.to_numpy(), dtype=torch.float32).view(-1, 1)"
   ]
  },
  {
   "cell_type": "code",
   "execution_count": null,
   "id": "5daa10ca-1307-4049-96e7-753e791a4612",
   "metadata": {
    "id": "5daa10ca-1307-4049-96e7-753e791a4612",
    "outputId": "5bd56be1-6fa3-4121-d7cd-ead8c3371a3e"
   },
   "outputs": [
    {
     "name": "stdout",
     "output_type": "stream",
     "text": [
      "Fitting 3 folds for each of 108 candidates, totalling 324 fits\n",
      "Best Parameters: {'max_depth': None, 'max_samples': 0.9, 'min_samples_leaf': 2, 'n_estimators': 300}\n"
     ]
    }
   ],
   "source": [
    "\n",
    "'''''''''\n",
    "# Simplified parameter grid\n",
    "param_grid = {\n",
    "    \"max_depth\": [None, 10, 12, 15],\n",
    "    \"min_samples_leaf\": [1, 2, 4],\n",
    "    \"n_estimators\": [100, 200, 300],\n",
    "    \"max_samples\": [0.8, 0.9, 0.99]\n",
    "}\n",
    "\n",
    "# Initialize the base Random Forest model\n",
    "rf = RandomForestRegressor(random_state=1)\n",
    "\n",
    "# Set up GridSearchCV with fewer iterations\n",
    "grid_search = GridSearchCV(estimator=rf, param_grid=param_grid, cv=3, verbose=1, n_jobs=-1)\n",
    "# Fit the model with hyperparameter tuning\n",
    "grid_search.fit(X_train, y_train)\n",
    "\n",
    "print(\"Best Parameters:\", grid_search.best_params_)'''''''''"
   ]
  },
  {
   "cell_type": "markdown",
   "id": "2Pz9prfti1PS",
   "metadata": {
    "id": "2Pz9prfti1PS"
   },
   "source": [
    "Random Forest"
   ]
  },
  {
   "cell_type": "code",
   "execution_count": null,
   "id": "0f64774a-fdd5-4372-bc7b-3700e3e26f1a",
   "metadata": {
    "colab": {
     "base_uri": "https://localhost:8080/"
    },
    "id": "0f64774a-fdd5-4372-bc7b-3700e3e26f1a",
    "outputId": "35e6c83f-9f32-4f6d-f338-a5c83459e754"
   },
   "outputs": [
    {
     "name": "stdout",
     "output_type": "stream",
     "text": [
      "Train R2 Score: 0.9675834978786\n",
      "Train MAE: 0.04314076247916314\n",
      "Test R2 Score: 0.7979650738379954\n",
      "Test MAE: 0.26975499276727105\n"
     ]
    }
   ],
   "source": [
    "# Random Forest model\n",
    "rf_model = RandomForestRegressor(\n",
    "    max_depth=None,\n",
    "    max_samples=0.9,\n",
    "    min_samples_leaf=1,\n",
    "    n_estimators=300,\n",
    "    random_state=1\n",
    ")\n",
    "\n",
    "rf_model.fit(X_train, y_train)\n",
    "\n",
    "# Make predictions using the best model\n",
    "train_preds_rf = rf_model.predict(X_train)\n",
    "test_preds_rf = rf_model.predict(X_test)\n",
    "\n",
    "# Evaluate metrics\n",
    "print(\"Train R2 Score:\", r2_score(y_train, train_preds_rf))\n",
    "print(\"Train MAE:\", mean_squared_error(y_train, train_preds_rf))\n",
    "\n",
    "print(\"Test R2 Score:\", r2_score(y_test, test_preds_rf))\n",
    "print(\"Test MAE:\", mean_squared_error(y_test, test_preds_rf))"
   ]
  },
  {
   "cell_type": "markdown",
   "id": "gcDMmlZ3jMGO",
   "metadata": {
    "id": "gcDMmlZ3jMGO"
   },
   "source": [
    "PFI for Random Forest"
   ]
  },
  {
   "cell_type": "code",
   "execution_count": null,
   "id": "d528711f-67ea-4545-a0c3-cb217bb22fd1",
   "metadata": {
    "colab": {
     "base_uri": "https://localhost:8080/",
     "height": 646
    },
    "id": "d528711f-67ea-4545-a0c3-cb217bb22fd1",
    "outputId": "9b7037b0-7140-49a5-c390-9112b0b2ae29"
   },
   "outputs": [
    {
     "name": "stdout",
     "output_type": "stream",
     "text": [
      " PFI Feature Importance :\n",
      "      Feature  Importance   Std Dev\n",
      "0      MedInc    1.140485  0.056887\n",
      "6    Latitude    0.445830  0.019323\n",
      "7   Longitude    0.407999  0.018540\n",
      "5    AveOccup    0.257327  0.028430\n",
      "1    HouseAge    0.098603  0.010386\n",
      "2    AveRooms    0.021833  0.003503\n",
      "3   AveBedrms    0.015183  0.003424\n",
      "4  Population    0.006551  0.002565\n"
     ]
    },
    {
     "data": {
      "image/png": "[encoded data removed]",
      "text/plain": [
       "<Figure size 640x480 with 1 Axes>"
      ]
     },
     "metadata": {},
     "output_type": "display_data"
    }
   ],
   "source": [
    "# Sampling data\n",
    "X_test_sample = X_test.sample(n=1000, random_state=42)\n",
    "y_test_sample = y_test.sample(n=1000, random_state=42)\n",
    "\n",
    "# Calculate PFI using permuation_importance from Scikit-learn\n",
    "pfi_result = permutation_importance(rf_model, X_test_sample, y_test_sample, n_repeats=10, random_state=42, scoring='neg_mean_squared_error')\n",
    "\n",
    "# Create a DataFrame to store the importance results\n",
    "pfi_importances_rf = pd.DataFrame({\n",
    "    'Feature': X_test.columns,\n",
    "    'Importance': pfi_result.importances_mean,\n",
    "    'Std Dev': pfi_result.importances_std\n",
    "})\n",
    "\n",
    "# Sort the features by importance\n",
    "pfi_importances_sorted = pfi_importances_rf.sort_values(by='Importance', ascending=False)\n",
    "\n",
    "print(\" PFI Feature Importance :\")\n",
    "print(pfi_importances_sorted)\n",
    "\n",
    "# Plot the feature importance\n",
    "plt.barh(pfi_importances_sorted['Feature'], pfi_importances_sorted['Importance'])\n",
    "plt.xlabel(\"Permutation Importance\")\n",
    "plt.title(\" Permutation Feature Importance (RF) \")\n",
    "plt.gca().invert_yaxis()"
   ]
  },
  {
   "cell_type": "markdown",
   "id": "Y334NY-DbKm6",
   "metadata": {
    "id": "Y334NY-DbKm6"
   },
   "source": [
    "SHAP for Random Forest"
   ]
  },
  {
   "cell_type": "code",
   "execution_count": null,
   "id": "c51904c0-209c-45d5-9958-3b8579857bed",
   "metadata": {
    "colab": {
     "base_uri": "https://localhost:8080/",
     "height": 476
    },
    "id": "c51904c0-209c-45d5-9958-3b8579857bed",
    "outputId": "c4bf144d-cd0a-472d-b1db-094e872a8b80"
   },
   "outputs": [
    {
     "data": {
      "image/png": "[encoded data removed]",
      "text/plain": [
       "<Figure size 800x470 with 2 Axes>"
      ]
     },
     "metadata": {},
     "output_type": "display_data"
    }
   ],
   "source": [
    "# Initialize SHAP explainer for the Random Forest model\n",
    "X_test_sample = X_test.sample(n=500, random_state=42)\n",
    "explainer = shap.TreeExplainer(rf_model)\n",
    "\n",
    "# Calculate SHAP values for the test set\n",
    "shap_values_rf = explainer(X_test_sample)\n",
    "\n",
    "shap.summary_plot(shap_values_rf, X_test_sample)\n",
    "\n",
    "shap_importances = pd.DataFrame({\n",
    "    'Feature': X_test.columns,\n",
    "    'Importance': np.abs(shap_values_rf.values).mean(axis=0)\n",
    "})\n",
    "shap_importances_sorted = shap_importances.sort_values(by='Importance', ascending=False)"
   ]
  },
  {
   "cell_type": "markdown",
   "id": "pf35ZfeGku-u",
   "metadata": {
    "id": "pf35ZfeGku-u"
   },
   "source": [
    "Agreement metric"
   ]
  },
  {
   "cell_type": "code",
   "execution_count": null,
   "id": "ckNtTZl5kuk8",
   "metadata": {
    "id": "ckNtTZl5kuk8"
   },
   "outputs": [],
   "source": [
    "# Function to measure greement for the top k features using Jaccard Index\n",
    "def agreement_metric(top_k_shap, top_k_pfi):\n",
    "    set_shap = set(top_k_shap)\n",
    "    set_pfi = set(top_k_pfi)\n",
    "\n",
    "    intersection = len(set_shap.intersection(set_pfi))\n",
    "    union = len(set_shap.union(set_pfi))\n",
    "\n",
    "    score = intersection / union if union != 0 else 0\n",
    "    return score"
   ]
  },
  {
   "cell_type": "code",
   "execution_count": null,
   "id": "nm1cSjIok3bS",
   "metadata": {
    "colab": {
     "base_uri": "https://localhost:8080/"
    },
    "id": "nm1cSjIok3bS",
    "outputId": "2ae5afee-902c-4c19-f297-f496630e6d42"
   },
   "outputs": [
    {
     "name": "stdout",
     "output_type": "stream",
     "text": [
      "Jaccard Index for the top 4 features using Random Forest: 1.0000\n"
     ]
    }
   ],
   "source": [
    "# Define k the number of top features to compare\n",
    "k = 4\n",
    "\n",
    "# Extract top k features\n",
    "top_k_shap = shap_importances_sorted['Feature'][:k]\n",
    "top_k_pfi = pfi_importances_sorted['Feature'][:k]\n",
    "\n",
    "score = agreement_metric(top_k_shap, top_k_pfi)\n",
    "print(f\"Jaccard Index for the top {k} features using Random Forest: {score:.4f}\")"
   ]
  },
  {
   "cell_type": "markdown",
   "id": "ewpQqlK-juHG",
   "metadata": {
    "id": "ewpQqlK-juHG"
   },
   "source": [
    "KAN Model"
   ]
  },
  {
   "cell_type": "code",
   "execution_count": null,
   "id": "46ba6806-d54b-456f-9def-f1cac9cdc004",
   "metadata": {
    "id": "46ba6806-d54b-456f-9def-f1cac9cdc004",
    "outputId": "73c89629-15ff-4f93-b963-f4a739de0a6f"
   },
   "outputs": [
    {
     "name": "stdout",
     "output_type": "stream",
     "text": [
      "Evaluating model with width=[8, 5, 1], grid=8\n",
      "checkpoint directory created: ./model\n",
      "saving model version 0.0\n"
     ]
    },
    {
     "name": "stderr",
     "output_type": "stream",
     "text": [
      "| train_loss: 7.94e-01 | test_loss: 8.47e-01 | reg: 6.96e+01 | : 100%|█| 50/50 [06:19<00:00,  7.59s/\n"
     ]
    },
    {
     "name": "stdout",
     "output_type": "stream",
     "text": [
      "saving model version 0.1\n",
      "Evaluating model with width=[[8, 0], [5, 0], [1, 0]], grid=10\n",
      "checkpoint directory created: ./model\n",
      "saving model version 0.0\n"
     ]
    },
    {
     "name": "stderr",
     "output_type": "stream",
     "text": [
      "| train_loss: 1.14e+00 | test_loss: 1.14e+00 | reg: 1.72e+01 | : 100%|█| 50/50 [03:32<00:00,  4.24s/\n"
     ]
    },
    {
     "name": "stdout",
     "output_type": "stream",
     "text": [
      "saving model version 0.1\n",
      "Evaluating model with width=[[8, 0], [5, 0], [1, 0]], grid=50\n",
      "checkpoint directory created: ./model\n",
      "saving model version 0.0\n"
     ]
    },
    {
     "name": "stderr",
     "output_type": "stream",
     "text": [
      "| train_loss: 7.31e-01 | test_loss: 8.11e-01 | reg: 1.12e+01 | : 100%|█| 50/50 [18:20<00:00, 22.00s/\n"
     ]
    },
    {
     "name": "stdout",
     "output_type": "stream",
     "text": [
      "saving model version 0.1\n",
      "Evaluating model with width=[[8, 0], [5, 0], [1, 0]], grid=100\n",
      "checkpoint directory created: ./model\n",
      "saving model version 0.0\n"
     ]
    },
    {
     "name": "stderr",
     "output_type": "stream",
     "text": [
      "| train_loss: 8.16e-01 | test_loss: 8.56e-01 | reg: 1.13e+01 | : 100%|█| 50/50 [37:00<00:00, 44.41s/\n"
     ]
    },
    {
     "name": "stdout",
     "output_type": "stream",
     "text": [
      "saving model version 0.1\n",
      "Evaluating model with width=[8, 7, 1], grid=8\n",
      "checkpoint directory created: ./model\n",
      "saving model version 0.0\n"
     ]
    },
    {
     "name": "stderr",
     "output_type": "stream",
     "text": [
      "| train_loss: 7.57e-01 | test_loss: 7.83e-01 | reg: 1.42e+03 | : 100%|█| 50/50 [05:53<00:00,  7.08s/\n"
     ]
    },
    {
     "name": "stdout",
     "output_type": "stream",
     "text": [
      "saving model version 0.1\n",
      "Evaluating model with width=[[8, 0], [7, 0], [1, 0]], grid=10\n",
      "checkpoint directory created: ./model\n",
      "saving model version 0.0\n"
     ]
    },
    {
     "name": "stderr",
     "output_type": "stream",
     "text": [
      "| train_loss: 8.11e-01 | test_loss: 8.29e-01 | reg: 2.30e+03 | : 100%|█| 50/50 [10:04<00:00, 12.09s/\n"
     ]
    },
    {
     "name": "stdout",
     "output_type": "stream",
     "text": [
      "saving model version 0.1\n",
      "Evaluating model with width=[[8, 0], [7, 0], [1, 0]], grid=50\n",
      "checkpoint directory created: ./model\n",
      "saving model version 0.0\n"
     ]
    },
    {
     "name": "stderr",
     "output_type": "stream",
     "text": [
      "| train_loss: 9.78e-01 | test_loss: 1.39e+00 | reg: 2.77e+03 | : 100%|█| 50/50 [17:09<00:00, 20.59s/\n"
     ]
    },
    {
     "name": "stdout",
     "output_type": "stream",
     "text": [
      "saving model version 0.1\n",
      "Evaluating model with width=[[8, 0], [7, 0], [1, 0]], grid=100\n",
      "checkpoint directory created: ./model\n",
      "saving model version 0.0\n"
     ]
    },
    {
     "name": "stderr",
     "output_type": "stream",
     "text": [
      "| train_loss: 1.07e+00 | test_loss: 1.08e+00 | reg: 1.35e+01 | : 100%|█| 50/50 [31:04<00:00, 37.29s/\n"
     ]
    },
    {
     "name": "stdout",
     "output_type": "stream",
     "text": [
      "saving model version 0.1\n",
      "Evaluating model with width=[8, 7, 5, 1], grid=8\n",
      "checkpoint directory created: ./model\n",
      "saving model version 0.0\n"
     ]
    },
    {
     "name": "stderr",
     "output_type": "stream",
     "text": [
      "| train_loss: 7.64e-01 | test_loss: 8.44e-01 | reg: 9.62e+01 | : 100%|█| 50/50 [11:36<00:00, 13.92s/\n"
     ]
    },
    {
     "name": "stdout",
     "output_type": "stream",
     "text": [
      "saving model version 0.1\n",
      "Evaluating model with width=[[8, 0], [7, 0], [5, 0], [1, 0]], grid=10\n",
      "checkpoint directory created: ./model\n",
      "saving model version 0.0\n"
     ]
    },
    {
     "name": "stderr",
     "output_type": "stream",
     "text": [
      "| train_loss: 6.95e-01 | test_loss: 7.11e-01 | reg: 8.62e+01 | : 100%|█| 50/50 [12:35<00:00, 15.11s/\n"
     ]
    },
    {
     "name": "stdout",
     "output_type": "stream",
     "text": [
      "saving model version 0.1\n",
      "Evaluating model with width=[[8, 0], [7, 0], [5, 0], [1, 0]], grid=50\n",
      "checkpoint directory created: ./model\n",
      "saving model version 0.0\n"
     ]
    },
    {
     "name": "stderr",
     "output_type": "stream",
     "text": [
      "| train_loss: 7.64e-01 | test_loss: 8.19e-01 | reg: 7.76e+02 | : 100%|█| 50/50 [33:12<00:00, 39.85s/\n"
     ]
    },
    {
     "name": "stdout",
     "output_type": "stream",
     "text": [
      "saving model version 0.1\n",
      "Evaluating model with width=[[8, 0], [7, 0], [5, 0], [1, 0]], grid=100\n",
      "checkpoint directory created: ./model\n",
      "saving model version 0.0\n"
     ]
    },
    {
     "name": "stderr",
     "output_type": "stream",
     "text": [
      "| train_loss: 7.06e-01 | test_loss: 7.32e-01 | reg: 5.18e+02 | : 100%|█| 50/50 [1:31:41<00:00, 110.0\n"
     ]
    },
    {
     "name": "stdout",
     "output_type": "stream",
     "text": [
      "saving model version 0.1\n",
      "Best Parameters: width=[[8, 0], [7, 0], [5, 0], [1, 0]], grid=10\n",
      "Best Validation Score (MSE): 0.5055865049362183\n"
     ]
    }
   ],
   "source": [
    "\"\"\" import numpy as np\n",
    "import itertools\n",
    "\n",
    "# Define the hyperparameters and their values\n",
    "param_grid = {\n",
    "    'width': [[8, 5, 1], [8, 7, 1], [8, 7, 5, 1]],  # Example values for width\n",
    "    'grid': [8, 10, 50, 100] # Example values for grid\n",
    "\n",
    "}\n",
    "\n",
    "# Function to create, fit and evaluate the KAN model\n",
    "def evaluate_kan_model(width, grid, train_input, train_label, val_input, val_label):\n",
    "    model = KAN(width=width, grid=grid, k=3, seed=0)  # Create the KAN model\n",
    "    results = model.fit(\n",
    "        {'train_input': train_input, 'train_label': train_label, 'test_input': val_input, 'test_label': val_label},\n",
    "        opt=\"LBFGS\", steps=50, loss_fn=torch.nn.MSELoss()  # Use MSELoss for regression\n",
    "    )\n",
    "    # Here you should evaluate your model on the validation set\n",
    "    val_predictions = model(val_input)  # Get predictions on the validation set\n",
    "    val_loss = torch.nn.MSELoss()(val_predictions, val_label)  # Calculate validation loss\n",
    "    return val_loss.item()  # Return the validation loss as a metric\n",
    "\n",
    "# Initialize variables to track the best model and its score\n",
    "best_score = float('inf')\n",
    "best_params = None\n",
    "\n",
    "# Create all combinations of hyperparameters\n",
    "for width, grid in itertools.product(param_grid['width'], param_grid['grid']):\n",
    "    print(f\"Evaluating model with width={width}, grid={grid}\")\n",
    "    score = evaluate_kan_model(width, grid, train_input, train_label, val_input, val_label)\n",
    "\n",
    "    if score < best_score:  # Check if the current score is better than the best score found\n",
    "        best_score = score\n",
    "        best_params = (width, grid)\n",
    "\n",
    "print(f\"Best Parameters: width={best_params[0]}, grid={best_params[1]}\")\n",
    "print(f\"Best Validation Score (MSE): {best_score}\")"
   ]
  },
  {
   "cell_type": "markdown",
   "id": "5s4pY1oUi1zc",
   "metadata": {
    "id": "5s4pY1oUi1zc"
   },
   "source": [
    "Test with Best KAN"
   ]
  },
  {
   "cell_type": "code",
   "execution_count": null,
   "id": "1d301f8c-4400-4f2e-abcf-5b340269cac2",
   "metadata": {
    "colab": {
     "base_uri": "https://localhost:8080/"
    },
    "id": "1d301f8c-4400-4f2e-abcf-5b340269cac2",
    "outputId": "7ac591ff-c1e9-4a94-823f-2a90ae89a7b4"
   },
   "outputs": [
    {
     "name": "stdout",
     "output_type": "stream",
     "text": [
      "checkpoint directory created: ./model\n",
      "saving model version 0.0\n"
     ]
    }
   ],
   "source": [
    "# Create the KAN model\n",
    "model2 = KAN(width=[8, 7, 5, 1], grid=8, k=3, seed=0)  # one hidden layer with 5 neurons"
   ]
  },
  {
   "cell_type": "code",
   "execution_count": null,
   "id": "5137baf9-606e-4f75-99d0-37597a9c7b17",
   "metadata": {
    "colab": {
     "base_uri": "https://localhost:8080/"
    },
    "id": "5137baf9-606e-4f75-99d0-37597a9c7b17",
    "outputId": "7a16dcee-3cea-4af5-84f7-addbdcb5fef1"
   },
   "outputs": [
    {
     "name": "stderr",
     "output_type": "stream",
     "text": [
      "| train_loss: 6.69e-01 | test_loss: 6.78e-01 | reg: 2.85e+01 | : 100%|█| 50/50 [07:22<00:00,  8.86s/"
     ]
    },
    {
     "name": "stdout",
     "output_type": "stream",
     "text": [
      "saving model version 0.1\n"
     ]
    },
    {
     "name": "stderr",
     "output_type": "stream",
     "text": [
      "\n"
     ]
    }
   ],
   "source": [
    "results2 = model2.fit(\n",
    "    {'train_input': train_input, 'train_label': train_label, 'test_input': val_input, 'test_label': val_label},\n",
    "    opt=\"LBFGS\", steps=50, loss_fn=torch.nn.MSELoss() # Use MSELoss for regression\n",
    ")"
   ]
  },
  {
   "cell_type": "code",
   "execution_count": null,
   "id": "630f86c3-2d6b-4438-9727-75a6ebd784ff",
   "metadata": {
    "colab": {
     "base_uri": "https://localhost:8080/"
    },
    "id": "630f86c3-2d6b-4438-9727-75a6ebd784ff",
    "outputId": "37e8bdd3-6cdd-478e-a19c-30f117316e59"
   },
   "outputs": [
    {
     "name": "stdout",
     "output_type": "stream",
     "text": [
      "Train R2 Score: 0.6635957956314087\n",
      "Train MAE: 0.4476959\n",
      "Val R2 Score: 0.654312789440155\n",
      "Val MAE: 0.45960143\n",
      "Test R2 Score: 0.6545801162719727\n",
      "Test MAE: 0.46120113\n"
     ]
    }
   ],
   "source": [
    "# Predictions of train val and test datasets\n",
    "test_preds = model2.forward(test_input).detach()\n",
    "test_labels = test_label\n",
    "\n",
    "train_preds = model2.forward(train_input).detach()\n",
    "train_labels = train_label\n",
    "\n",
    "val_preds = model2.forward(val_input).detach()\n",
    "val_labels = val_label\n",
    "\n",
    "# Evaluation\n",
    "print(\"Train R2 Score:\", r2_score(train_labels.numpy(), train_preds.numpy()))\n",
    "print(\"Train MAE:\", mean_squared_error(train_labels.numpy(), train_preds.numpy()))\n",
    "\n",
    "print(\"Val R2 Score:\", r2_score(val_labels.numpy(), val_preds.numpy()))\n",
    "print(\"Val MAE:\", mean_squared_error(val_labels.numpy(), val_preds.numpy()))\n",
    "\n",
    "print(\"Test R2 Score:\", r2_score(test_labels.numpy(), test_preds.numpy()))\n",
    "print(\"Test MAE:\", mean_squared_error(test_labels.numpy(), test_preds.numpy()))"
   ]
  },
  {
   "cell_type": "markdown",
   "id": "BHjlqBEKjPZv",
   "metadata": {
    "id": "BHjlqBEKjPZv"
   },
   "source": [
    "PFI for KAN"
   ]
  },
  {
   "cell_type": "code",
   "execution_count": null,
   "id": "Eq-vrAHEdN9L",
   "metadata": {
    "colab": {
     "base_uri": "https://localhost:8080/",
     "height": 643
    },
    "id": "Eq-vrAHEdN9L",
    "outputId": "e4195fd2-dc93-49dc-b7d1-84cd7ae50452"
   },
   "outputs": [
    {
     "name": "stdout",
     "output_type": "stream",
     "text": [
      "     Features  Importances\n",
      "0      MedInc     1.612551\n",
      "5    AveOccup     0.541834\n",
      "2    AveRooms     0.089170\n",
      "1    HouseAge     0.056753\n",
      "7   Longitude     0.054679\n",
      "3   AveBedrms     0.037223\n",
      "4  Population     0.019662\n",
      "6    Latitude     0.007784\n"
     ]
    },
    {
     "data": {
      "image/png": "[encoded data removed]",
      "text/plain": [
       "<Figure size 600x500 with 1 Axes>"
      ]
     },
     "metadata": {},
     "output_type": "display_data"
    }
   ],
   "source": [
    "# Function to evaluate model performance using MSE\n",
    "def evaluate_model(model, X, y):\n",
    "    model.eval()\n",
    "    with torch.no_grad():\n",
    "        predictions = model(torch.tensor(X, dtype=torch.float32)).numpy()\n",
    "    return mean_squared_error(y, predictions)\n",
    "\n",
    "# Calculate permutation feature importance (PFI)\n",
    "def permutation_importance(model, X, y, metric=evaluate_model, n_repeats=10):\n",
    "    baseline_score = metric(model, X, y)\n",
    "    importances = np.zeros(X.shape[1])\n",
    "\n",
    "    for i in range(X.shape[1]):\n",
    "        scores = []\n",
    "        for _ in range(n_repeats):\n",
    "            X_permuted = X.copy()\n",
    "            np.random.shuffle(X_permuted[:, i])\n",
    "            score = metric(model, X_permuted, y)\n",
    "            scores.append(score)\n",
    "        importances[i] = np.mean(scores) - baseline_score\n",
    "\n",
    "    return importances\n",
    "\n",
    "# Convert validation data to numpy arrays\n",
    "X_val_tensor = X_val.to_numpy()\n",
    "y_val_tensor = y_val.to_numpy()\n",
    "\n",
    "# Calculate feature importances\n",
    "importances_kan = permutation_importance(model2, X_val_tensor, y_val_tensor)\n",
    "\n",
    "# Create DataFrame with feature importances\n",
    "feature_names = X_train.columns\n",
    "importance_df = pd.DataFrame({\n",
    "    'Features': feature_names,\n",
    "    'Importances': importances_kan\n",
    "}).sort_values(by='Importances', ascending=False)\n",
    "\n",
    "print(importance_df)\n",
    "\n",
    "# Plot the feature importances\n",
    "plt.figure(figsize=(6, 5))\n",
    "plt.barh(importance_df['Features'], importance_df['Importances'])\n",
    "plt.xlabel('Importance')\n",
    "plt.title('Permutation Feature Importance')\n",
    "plt.gca().invert_yaxis()\n",
    "plt.show()\n"
   ]
  },
  {
   "cell_type": "markdown",
   "id": "v46yp4-FjNvC",
   "metadata": {
    "id": "v46yp4-FjNvC"
   },
   "source": [
    "SHAP for KAN"
   ]
  },
  {
   "cell_type": "code",
   "execution_count": null,
   "id": "Ynh6HE9heN6C",
   "metadata": {
    "colab": {
     "base_uri": "https://localhost:8080/",
     "height": 684,
     "referenced_widgets": [
      "190e76f347f1459a9e1dec8b0739e751",
      "5e1b6cd4abb046489a77f1f8a9ae0128",
      "87b2549d5d764690bc2256daa81c1fae",
      "2e434568416947e798a051aa120c4304",
      "3622dfc87c514aa0bd1d4ddc006d1bfc",
      "8bce48896c86406493f89abc628e3e46",
      "a8adbeb6401c4303ba26b2e2e8412a50",
      "a203d0ab86d348f0a558189b5ea625ea",
      "f4070f94ae824b18a306eb5ba96ce35b",
      "81f87769c96548f0a820c8f86e422322",
      "e432f7049fe243e294ffde09603271f1"
     ]
    },
    "id": "Ynh6HE9heN6C",
    "outputId": "c7a5f32b-8bb0-4a40-b63b-2027e473362f"
   },
   "outputs": [
    {
     "name": "stderr",
     "output_type": "stream",
     "text": [
      "WARNING:shap:Using 500 background data samples could cause slower run times. Consider using shap.sample(data, K) or shap.kmeans(data, K) to summarize the background as K samples.\n"
     ]
    },
    {
     "data": {
      "application/vnd.jupyter.widget-view+json": {
       "model_id": "190e76f347f1459a9e1dec8b0739e751",
       "version_major": 2,
       "version_minor": 0
      },
      "text/plain": [
       "  0%|          | 0/500 [00:00<?, ?it/s]"
      ]
     },
     "metadata": {},
     "output_type": "display_data"
    },
    {
     "name": "stderr",
     "output_type": "stream",
     "text": [
      "/usr/local/lib/python3.10/dist-packages/kan/MultKAN.py:813: UserWarning: std(): degrees of freedom is <= 0. Correction should be strictly less than the reduction factor (input numel divided by output numel). (Triggered internally at ../aten/src/ATen/native/ReduceOps.cpp:1823.)\n",
      "  self.subnode_actscale.append(torch.std(x, dim=0).detach())\n",
      "/usr/local/lib/python3.10/dist-packages/kan/MultKAN.py:823: UserWarning: std(): degrees of freedom is <= 0. Correction should be strictly less than the reduction factor (input numel divided by output numel). (Triggered internally at ../aten/src/ATen/native/ReduceOps.cpp:1823.)\n",
      "  input_range = torch.std(preacts, dim=0) + 0.1\n",
      "/usr/local/lib/python3.10/dist-packages/kan/MultKAN.py:824: UserWarning: std(): degrees of freedom is <= 0. Correction should be strictly less than the reduction factor (input numel divided by output numel). (Triggered internally at ../aten/src/ATen/native/ReduceOps.cpp:1823.)\n",
      "  output_range_spline = torch.std(postacts_numerical, dim=0) # for training, only penalize the spline part\n",
      "/usr/local/lib/python3.10/dist-packages/kan/MultKAN.py:825: UserWarning: std(): degrees of freedom is <= 0. Correction should be strictly less than the reduction factor (input numel divided by output numel). (Triggered internally at ../aten/src/ATen/native/ReduceOps.cpp:1823.)\n",
      "  output_range = torch.std(postacts, dim=0) # for visualization, include the contribution from both spline + symbolic\n"
     ]
    },
    {
     "data": {
      "image/png": "[encoded data removed]",
      "text/plain": [
       "<Figure size 800x470 with 2 Axes>"
      ]
     },
     "metadata": {},
     "output_type": "display_data"
    }
   ],
   "source": [
    "# Define a prediction function\n",
    "def predict(data):\n",
    "    data_tensor = torch.tensor(data, dtype=torch.float32)\n",
    "    with torch.no_grad():\n",
    "        preds = model2(data_tensor).numpy()\n",
    "    return preds\n",
    "\n",
    "# Sampling data\n",
    "X_train_subset = X_train.sample(500, random_state=42).to_numpy()\n",
    "X_test_subset = X_test.sample(500, random_state=42).to_numpy()\n",
    "\n",
    "explainer = shap.KernelExplainer(predict, X_train_subset)\n",
    "\n",
    "shap_values = explainer.shap_values(X_test_subset)\n",
    "\n",
    "if isinstance(shap_values, list):\n",
    "    shap_values = shap_values[0]\n",
    "\n",
    "shap_values = np.squeeze(shap_values)\n",
    "\n",
    "shap_df_kan= pd.DataFrame(shap_values, columns=X_test.columns)\n",
    "\n",
    "# Plot SHAP summary plot\n",
    "shap.summary_plot(shap_values, X_test_subset, feature_names=X_test.columns)"
   ]
  },
  {
   "cell_type": "markdown",
   "id": "PLicuGBxwlac",
   "metadata": {
    "id": "PLicuGBxwlac"
   },
   "source": [
    "Agreement metric"
   ]
  },
  {
   "cell_type": "code",
   "execution_count": null,
   "id": "hq1CjTzBwoRF",
   "metadata": {
    "colab": {
     "base_uri": "https://localhost:8080/"
    },
    "id": "hq1CjTzBwoRF",
    "outputId": "8a7e63f0-e83e-44f6-eeb5-f5bf6a918258"
   },
   "outputs": [
    {
     "name": "stdout",
     "output_type": "stream",
     "text": [
      "Jaccard Index for the top 4 features using KAN: 0.6000\n"
     ]
    }
   ],
   "source": [
    "#Creating lists of top k features of shap and pfi for KAN\n",
    "k = 4\n",
    "top_k_pfi_features_kan = ['MedInc', 'AveOccup', 'AveRooms', 'HouseAge']\n",
    "top_k_shap_features_kan = ['MedInc', 'AveOccup', 'AveRooms', 'Longitude']\n",
    "\n",
    "\n",
    "score_kan = agreement_metric(top_k_shap_features_kan, top_k_pfi_features_kan)\n",
    "print(f\"Jaccard Index for the top {k} features using KAN: {score_kan:.4f}\")"
   ]
  }
 ],
 "metadata": {
  "colab": {
   "provenance": []
  },
  "kernelspec": {
   "display_name": "Python 3",
   "name": "python3"
  },
  "language_info": {
   "codemirror_mode": {
    "name": "ipython",
    "version": 3
   },
   "file_extension": ".py",
   "mimetype": "text/x-python",
   "name": "python",
   "nbconvert_exporter": "python",
   "pygments_lexer": "ipython3",
   "version": "3.12.4"
  },
  "widgets": {
   "application/vnd.jupyter.widget-state+json": {
    "190e76f347f1459a9e1dec8b0739e751": {
     "model_module": "@jupyter-widgets/controls",
     "model_module_version": "1.5.0",
     "model_name": "HBoxModel",
     "state": {
      "_dom_classes": [],
      "_model_module": "@jupyter-widgets/controls",
      "_model_module_version": "1.5.0",
      "_model_name": "HBoxModel",
      "_view_count": null,
      "_view_module": "@jupyter-widgets/controls",
      "_view_module_version": "1.5.0",
      "_view_name": "HBoxView",
      "box_style": "",
      "children": [
       "IPY_MODEL_5e1b6cd4abb046489a77f1f8a9ae0128",
       "IPY_MODEL_87b2549d5d764690bc2256daa81c1fae",
       "IPY_MODEL_2e434568416947e798a051aa120c4304"
      ],
      "layout": "IPY_MODEL_3622dfc87c514aa0bd1d4ddc006d1bfc"
     }
    },
    "2e434568416947e798a051aa120c4304": {
     "model_module": "@jupyter-widgets/controls",
     "model_module_version": "1.5.0",
     "model_name": "HTMLModel",
     "state": {
      "_dom_classes": [],
      "_model_module": "@jupyter-widgets/controls",
      "_model_module_version": "1.5.0",
      "_model_name": "HTMLModel",
      "_view_count": null,
      "_view_module": "@jupyter-widgets/controls",
      "_view_module_version": "1.5.0",
      "_view_name": "HTMLView",
      "description": "",
      "description_tooltip": null,
      "layout": "IPY_MODEL_81f87769c96548f0a820c8f86e422322",
      "placeholder": "​",
      "style": "IPY_MODEL_e432f7049fe243e294ffde09603271f1",
      "value": " 500/500 [37:44&lt;00:00,  4.42s/it]"
     }
    },
    "3622dfc87c514aa0bd1d4ddc006d1bfc": {
     "model_module": "@jupyter-widgets/base",
     "model_module_version": "1.2.0",
     "model_name": "LayoutModel",
     "state": {
      "_model_module": "@jupyter-widgets/base",
      "_model_module_version": "1.2.0",
      "_model_name": "LayoutModel",
      "_view_count": null,
      "_view_module": "@jupyter-widgets/base",
      "_view_module_version": "1.2.0",
      "_view_name": "LayoutView",
      "align_content": null,
      "align_items": null,
      "align_self": null,
      "border": null,
      "bottom": null,
      "display": null,
      "flex": null,
      "flex_flow": null,
      "grid_area": null,
      "grid_auto_columns": null,
      "grid_auto_flow": null,
      "grid_auto_rows": null,
      "grid_column": null,
      "grid_gap": null,
      "grid_row": null,
      "grid_template_areas": null,
      "grid_template_columns": null,
      "grid_template_rows": null,
      "height": null,
      "justify_content": null,
      "justify_items": null,
      "left": null,
      "margin": null,
      "max_height": null,
      "max_width": null,
      "min_height": null,
      "min_width": null,
      "object_fit": null,
      "object_position": null,
      "order": null,
      "overflow": null,
      "overflow_x": null,
      "overflow_y": null,
      "padding": null,
      "right": null,
      "top": null,
      "visibility": null,
      "width": null
     }
    },
    "5e1b6cd4abb046489a77f1f8a9ae0128": {
     "model_module": "@jupyter-widgets/controls",
     "model_module_version": "1.5.0",
     "model_name": "HTMLModel",
     "state": {
      "_dom_classes": [],
      "_model_module": "@jupyter-widgets/controls",
      "_model_module_version": "1.5.0",
      "_model_name": "HTMLModel",
      "_view_count": null,
      "_view_module": "@jupyter-widgets/controls",
      "_view_module_version": "1.5.0",
      "_view_name": "HTMLView",
      "description": "",
      "description_tooltip": null,
      "layout": "IPY_MODEL_8bce48896c86406493f89abc628e3e46",
      "placeholder": "​",
      "style": "IPY_MODEL_a8adbeb6401c4303ba26b2e2e8412a50",
      "value": "100%"
     }
    },
    "81f87769c96548f0a820c8f86e422322": {
     "model_module": "@jupyter-widgets/base",
     "model_module_version": "1.2.0",
     "model_name": "LayoutModel",
     "state": {
      "_model_module": "@jupyter-widgets/base",
      "_model_module_version": "1.2.0",
      "_model_name": "LayoutModel",
      "_view_count": null,
      "_view_module": "@jupyter-widgets/base",
      "_view_module_version": "1.2.0",
      "_view_name": "LayoutView",
      "align_content": null,
      "align_items": null,
      "align_self": null,
      "border": null,
      "bottom": null,
      "display": null,
      "flex": null,
      "flex_flow": null,
      "grid_area": null,
      "grid_auto_columns": null,
      "grid_auto_flow": null,
      "grid_auto_rows": null,
      "grid_column": null,
      "grid_gap": null,
      "grid_row": null,
      "grid_template_areas": null,
      "grid_template_columns": null,
      "grid_template_rows": null,
      "height": null,
      "justify_content": null,
      "justify_items": null,
      "left": null,
      "margin": null,
      "max_height": null,
      "max_width": null,
      "min_height": null,
      "min_width": null,
      "object_fit": null,
      "object_position": null,
      "order": null,
      "overflow": null,
      "overflow_x": null,
      "overflow_y": null,
      "padding": null,
      "right": null,
      "top": null,
      "visibility": null,
      "width": null
     }
    },
    "87b2549d5d764690bc2256daa81c1fae": {
     "model_module": "@jupyter-widgets/controls",
     "model_module_version": "1.5.0",
     "model_name": "FloatProgressModel",
     "state": {
      "_dom_classes": [],
      "_model_module": "@jupyter-widgets/controls",
      "_model_module_version": "1.5.0",
      "_model_name": "FloatProgressModel",
      "_view_count": null,
      "_view_module": "@jupyter-widgets/controls",
      "_view_module_version": "1.5.0",
      "_view_name": "ProgressView",
      "bar_style": "success",
      "description": "",
      "description_tooltip": null,
      "layout": "IPY_MODEL_a203d0ab86d348f0a558189b5ea625ea",
      "max": 500,
      "min": 0,
      "orientation": "horizontal",
      "style": "IPY_MODEL_f4070f94ae824b18a306eb5ba96ce35b",
      "value": 500
     }
    },
    "8bce48896c86406493f89abc628e3e46": {
     "model_module": "@jupyter-widgets/base",
     "model_module_version": "1.2.0",
     "model_name": "LayoutModel",
     "state": {
      "_model_module": "@jupyter-widgets/base",
      "_model_module_version": "1.2.0",
      "_model_name": "LayoutModel",
      "_view_count": null,
      "_view_module": "@jupyter-widgets/base",
      "_view_module_version": "1.2.0",
      "_view_name": "LayoutView",
      "align_content": null,
      "align_items": null,
      "align_self": null,
      "border": null,
      "bottom": null,
      "display": null,
      "flex": null,
      "flex_flow": null,
      "grid_area": null,
      "grid_auto_columns": null,
      "grid_auto_flow": null,
      "grid_auto_rows": null,
      "grid_column": null,
      "grid_gap": null,
      "grid_row": null,
      "grid_template_areas": null,
      "grid_template_columns": null,
      "grid_template_rows": null,
      "height": null,
      "justify_content": null,
      "justify_items": null,
      "left": null,
      "margin": null,
      "max_height": null,
      "max_width": null,
      "min_height": null,
      "min_width": null,
      "object_fit": null,
      "object_position": null,
      "order": null,
      "overflow": null,
      "overflow_x": null,
      "overflow_y": null,
      "padding": null,
      "right": null,
      "top": null,
      "visibility": null,
      "width": null
     }
    },
    "a203d0ab86d348f0a558189b5ea625ea": {
     "model_module": "@jupyter-widgets/base",
     "model_module_version": "1.2.0",
     "model_name": "LayoutModel",
     "state": {
      "_model_module": "@jupyter-widgets/base",
      "_model_module_version": "1.2.0",
      "_model_name": "LayoutModel",
      "_view_count": null,
      "_view_module": "@jupyter-widgets/base",
      "_view_module_version": "1.2.0",
      "_view_name": "LayoutView",
      "align_content": null,
      "align_items": null,
      "align_self": null,
      "border": null,
      "bottom": null,
      "display": null,
      "flex": null,
      "flex_flow": null,
      "grid_area": null,
      "grid_auto_columns": null,
      "grid_auto_flow": null,
      "grid_auto_rows": null,
      "grid_column": null,
      "grid_gap": null,
      "grid_row": null,
      "grid_template_areas": null,
      "grid_template_columns": null,
      "grid_template_rows": null,
      "height": null,
      "justify_content": null,
      "justify_items": null,
      "left": null,
      "margin": null,
      "max_height": null,
      "max_width": null,
      "min_height": null,
      "min_width": null,
      "object_fit": null,
      "object_position": null,
      "order": null,
      "overflow": null,
      "overflow_x": null,
      "overflow_y": null,
      "padding": null,
      "right": null,
      "top": null,
      "visibility": null,
      "width": null
     }
    },
    "a8adbeb6401c4303ba26b2e2e8412a50": {
     "model_module": "@jupyter-widgets/controls",
     "model_module_version": "1.5.0",
     "model_name": "DescriptionStyleModel",
     "state": {
      "_model_module": "@jupyter-widgets/controls",
      "_model_module_version": "1.5.0",
      "_model_name": "DescriptionStyleModel",
      "_view_count": null,
      "_view_module": "@jupyter-widgets/base",
      "_view_module_version": "1.2.0",
      "_view_name": "StyleView",
      "description_width": ""
     }
    },
    "e432f7049fe243e294ffde09603271f1": {
     "model_module": "@jupyter-widgets/controls",
     "model_module_version": "1.5.0",
     "model_name": "DescriptionStyleModel",
     "state": {
      "_model_module": "@jupyter-widgets/controls",
      "_model_module_version": "1.5.0",
      "_model_name": "DescriptionStyleModel",
      "_view_count": null,
      "_view_module": "@jupyter-widgets/base",
      "_view_module_version": "1.2.0",
      "_view_name": "StyleView",
      "description_width": ""
     }
    },
    "f4070f94ae824b18a306eb5ba96ce35b": {
     "model_module": "@jupyter-widgets/controls",
     "model_module_version": "1.5.0",
     "model_name": "ProgressStyleModel",
     "state": {
      "_model_module": "@jupyter-widgets/controls",
      "_model_module_version": "1.5.0",
      "_model_name": "ProgressStyleModel",
      "_view_count": null,
      "_view_module": "@jupyter-widgets/base",
      "_view_module_version": "1.2.0",
      "_view_name": "StyleView",
      "bar_color": null,
      "description_width": ""
     }
    }
   }
  }
 },
 "nbformat": 4,
 "nbformat_minor": 5
}
